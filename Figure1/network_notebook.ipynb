{
 "cells": [
  {
   "cell_type": "code",
   "execution_count": 4,
   "id": "pediatric-financing",
   "metadata": {},
   "outputs": [],
   "source": [
    "from network_generator import NetworkGenerator\n",
    "from brian2 import *\n",
    "import numpy as np"
   ]
  },
  {
   "cell_type": "code",
   "execution_count": 3,
   "id": "driving-stake",
   "metadata": {},
   "outputs": [],
   "source": [
    "def process_firings(M_in, M_ex):\n",
    "    global session\n",
    "    count_in = np.array(M_in.count)/(time/second)\n",
    "    count_ex = np.array(M_ex.count)/(time/second)\n",
    "    count_in_path = 'FR_in_session' + str(session) + '.npy'\n",
    "    count_ex_path = 'FR_ex_session' + str(session) + '.npy'\n",
    "    np.save(count_in_path, count_in)\n",
    "    np.save(count_ex_path, count_ex)"
   ]
  },
  {
   "cell_type": "code",
   "execution_count": 2,
   "id": "sonic-affair",
   "metadata": {},
   "outputs": [
    {
     "name": "stdout",
     "output_type": "stream",
     "text": [
      "Starting simulation at t=0. s for a duration of 10. ms\n",
      "10. ms (100%) simulated in 3s\n"
     ]
    },
    {
     "ename": "NameError",
     "evalue": "name 'process_firings' is not defined",
     "output_type": "error",
     "traceback": [
      "\u001b[0;31m---------------------------------------------------------------------------\u001b[0m",
      "\u001b[0;31mNameError\u001b[0m                                 Traceback (most recent call last)",
      "\u001b[0;32m<ipython-input-2-04d3ea30e897>\u001b[0m in \u001b[0;36m<module>\u001b[0;34m\u001b[0m\n\u001b[1;32m      4\u001b[0m \u001b[0mNG\u001b[0m\u001b[0;34m.\u001b[0m\u001b[0mrun_network\u001b[0m\u001b[0;34m(\u001b[0m\u001b[0mtime\u001b[0m\u001b[0;34m)\u001b[0m\u001b[0;34m\u001b[0m\u001b[0;34m\u001b[0m\u001b[0m\n\u001b[1;32m      5\u001b[0m \u001b[0;34m\u001b[0m\u001b[0m\n\u001b[0;32m----> 6\u001b[0;31m \u001b[0mprocess_firings\u001b[0m\u001b[0;34m(\u001b[0m\u001b[0mNG\u001b[0m\u001b[0;34m.\u001b[0m\u001b[0mM_in\u001b[0m\u001b[0;34m,\u001b[0m \u001b[0mNG\u001b[0m\u001b[0;34m.\u001b[0m\u001b[0mM_ex\u001b[0m\u001b[0;34m)\u001b[0m\u001b[0;34m\u001b[0m\u001b[0;34m\u001b[0m\u001b[0m\n\u001b[0m",
      "\u001b[0;31mNameError\u001b[0m: name 'process_firings' is not defined"
     ]
    }
   ],
   "source": [
    "time = 10*ms\n",
    "session = 1\n",
    "NG = NetworkGenerator()\n",
    "NG.run_network(time)\n",
    "\n",
    "process_firings(NG.M_in, NG.M_ex)"
   ]
  },
  {
   "cell_type": "code",
   "execution_count": null,
   "id": "integrated-conversion",
   "metadata": {},
   "outputs": [],
   "source": []
  }
 ],
 "metadata": {
  "kernelspec": {
   "display_name": "Python 3",
   "language": "python",
   "name": "python3"
  },
  "language_info": {
   "codemirror_mode": {
    "name": "ipython",
    "version": 3
   },
   "file_extension": ".py",
   "mimetype": "text/x-python",
   "name": "python",
   "nbconvert_exporter": "python",
   "pygments_lexer": "ipython3",
   "version": "3.8.5"
  }
 },
 "nbformat": 4,
 "nbformat_minor": 5
}
