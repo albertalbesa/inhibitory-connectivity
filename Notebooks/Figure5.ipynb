{
  "nbformat": 4,
  "nbformat_minor": 0,
  "metadata": {
    "accelerator": "GPU",
    "colab": {
      "name": "Figure5",
      "provenance": [],
      "collapsed_sections": [],
      "machine_shape": "hm"
    },
    "kernelspec": {
      "display_name": "Python 3",
      "name": "python3"
    },
    "language_info": {
      "name": "python"
    }
  },
  "cells": [
    {
      "cell_type": "markdown",
      "metadata": {
        "id": "yAdfHonHkTrb"
      },
      "source": [
        "**we need to install brian packages because it doesn't come with drive**"
      ]
    },
    {
      "cell_type": "code",
      "metadata": {
        "colab": {
          "base_uri": "https://localhost:8080/"
        },
        "id": "4J3zfJ5SkSFf",
        "outputId": "746fcca3-79f3-4fad-ce13-90163e8dfd11"
      },
      "source": [
        "%pip install brian2\n",
        "%pip install brian2tools\n",
        "%pip install scipy\n",
        "!pip install --upgrade scipy\n",
        "%pip install elephant"
      ],
      "execution_count": null,
      "outputs": [
        {
          "output_type": "stream",
          "text": [
            "Collecting brian2\n",
            "\u001b[?25l  Downloading https://files.pythonhosted.org/packages/9a/c7/565012c479953d041d5e828938515d3c402d0c3f4942180f1c44cb0f472e/Brian2-2.4.2.tar.gz (1.2MB)\n",
            "\u001b[K     |████████████████████████████████| 1.2MB 6.3MB/s \n",
            "\u001b[?25hRequirement already satisfied: numpy>=1.15 in /usr/local/lib/python3.7/dist-packages (from brian2) (1.19.5)\n",
            "Requirement already satisfied: cython>=0.29 in /usr/local/lib/python3.7/dist-packages (from brian2) (0.29.22)\n",
            "Requirement already satisfied: sympy>=1.2 in /usr/local/lib/python3.7/dist-packages (from brian2) (1.7.1)\n",
            "Requirement already satisfied: pyparsing in /usr/local/lib/python3.7/dist-packages (from brian2) (2.4.7)\n",
            "Requirement already satisfied: jinja2>=2.7 in /usr/local/lib/python3.7/dist-packages (from brian2) (2.11.3)\n",
            "Requirement already satisfied: setuptools>=24.2 in /usr/local/lib/python3.7/dist-packages (from brian2) (56.1.0)\n",
            "Requirement already satisfied: mpmath>=0.19 in /usr/local/lib/python3.7/dist-packages (from sympy>=1.2->brian2) (1.2.1)\n",
            "Requirement already satisfied: MarkupSafe>=0.23 in /usr/local/lib/python3.7/dist-packages (from jinja2>=2.7->brian2) (1.1.1)\n",
            "Building wheels for collected packages: brian2\n",
            "  Building wheel for brian2 (setup.py) ... \u001b[?25l\u001b[?25hdone\n",
            "  Created wheel for brian2: filename=Brian2-2.4.2-cp37-cp37m-linux_x86_64.whl size=1257121 sha256=573bceae9cd97222e1513ebb089e8a2cb6bbbcf5839777b8f3fd745d0a87ec2c\n",
            "  Stored in directory: /root/.cache/pip/wheels/5d/4b/cf/ef50e71df5479d67f981cbb17b1d842381019d27ba144d57de\n",
            "Successfully built brian2\n",
            "Installing collected packages: brian2\n",
            "Successfully installed brian2-2.4.2\n",
            "Collecting brian2tools\n",
            "  Downloading https://files.pythonhosted.org/packages/a4/69/e60d50a603d764e16f352ee65c538625ba2524e2d8ecf6d417e8885589eb/brian2tools-0.2.1.1-py2.py3-none-any.whl\n",
            "Requirement already satisfied: setuptools in /usr/local/lib/python3.7/dist-packages (from brian2tools) (56.1.0)\n",
            "Requirement already satisfied: brian2>=2.0 in /usr/local/lib/python3.7/dist-packages (from brian2tools) (2.4.2)\n",
            "Collecting pylems>=0.4.9\n",
            "\u001b[?25l  Downloading https://files.pythonhosted.org/packages/44/57/23341fb878a3d90534bf01cdcb5207cdb7698ba63cee552e71e5d96dcda7/PyLEMS-0.5.2-py3-none-any.whl (64kB)\n",
            "\u001b[K     |████████████████████████████████| 71kB 4.5MB/s \n",
            "\u001b[?25hRequirement already satisfied: matplotlib>=1.3.1 in /usr/local/lib/python3.7/dist-packages (from brian2tools) (3.2.2)\n",
            "Collecting setuptools-scm\n",
            "  Downloading https://files.pythonhosted.org/packages/c4/d5/e50358c82026f44cd8810c8165002746cd3f8b78865f6bcf5d7f0fe4f652/setuptools_scm-6.0.1-py3-none-any.whl\n",
            "Requirement already satisfied: jinja2>=2.7 in /usr/local/lib/python3.7/dist-packages (from brian2>=2.0->brian2tools) (2.11.3)\n",
            "Requirement already satisfied: pyparsing in /usr/local/lib/python3.7/dist-packages (from brian2>=2.0->brian2tools) (2.4.7)\n",
            "Requirement already satisfied: numpy>=1.15 in /usr/local/lib/python3.7/dist-packages (from brian2>=2.0->brian2tools) (1.19.5)\n",
            "Requirement already satisfied: cython>=0.29 in /usr/local/lib/python3.7/dist-packages (from brian2>=2.0->brian2tools) (0.29.22)\n",
            "Requirement already satisfied: sympy>=1.2 in /usr/local/lib/python3.7/dist-packages (from brian2>=2.0->brian2tools) (1.7.1)\n",
            "Requirement already satisfied: lxml in /usr/local/lib/python3.7/dist-packages (from pylems>=0.4.9->brian2tools) (4.2.6)\n",
            "Requirement already satisfied: python-dateutil>=2.1 in /usr/local/lib/python3.7/dist-packages (from matplotlib>=1.3.1->brian2tools) (2.8.1)\n",
            "Requirement already satisfied: kiwisolver>=1.0.1 in /usr/local/lib/python3.7/dist-packages (from matplotlib>=1.3.1->brian2tools) (1.3.1)\n",
            "Requirement already satisfied: cycler>=0.10 in /usr/local/lib/python3.7/dist-packages (from matplotlib>=1.3.1->brian2tools) (0.10.0)\n",
            "Requirement already satisfied: MarkupSafe>=0.23 in /usr/local/lib/python3.7/dist-packages (from jinja2>=2.7->brian2>=2.0->brian2tools) (1.1.1)\n",
            "Requirement already satisfied: mpmath>=0.19 in /usr/local/lib/python3.7/dist-packages (from sympy>=1.2->brian2>=2.0->brian2tools) (1.2.1)\n",
            "Requirement already satisfied: six>=1.5 in /usr/local/lib/python3.7/dist-packages (from python-dateutil>=2.1->matplotlib>=1.3.1->brian2tools) (1.15.0)\n",
            "Installing collected packages: pylems, setuptools-scm, brian2tools\n",
            "Successfully installed brian2tools-0.2.1.1 pylems-0.5.2 setuptools-scm-6.0.1\n",
            "Requirement already satisfied: scipy in /usr/local/lib/python3.7/dist-packages (1.4.1)\n",
            "Requirement already satisfied: numpy>=1.13.3 in /usr/local/lib/python3.7/dist-packages (from scipy) (1.19.5)\n",
            "Collecting scipy\n",
            "\u001b[?25l  Downloading https://files.pythonhosted.org/packages/7d/e8/43ffca541d2f208d516296950b25fe1084b35c2881f4d444c1346ca75815/scipy-1.6.3-cp37-cp37m-manylinux1_x86_64.whl (27.4MB)\n",
            "\u001b[K     |████████████████████████████████| 27.4MB 184kB/s \n",
            "\u001b[?25hRequirement already satisfied, skipping upgrade: numpy<1.23.0,>=1.16.5 in /usr/local/lib/python3.7/dist-packages (from scipy) (1.19.5)\n",
            "\u001b[31mERROR: albumentations 0.1.12 has requirement imgaug<0.2.7,>=0.2.5, but you'll have imgaug 0.2.9 which is incompatible.\u001b[0m\n",
            "Installing collected packages: scipy\n",
            "  Found existing installation: scipy 1.4.1\n",
            "    Uninstalling scipy-1.4.1:\n",
            "      Successfully uninstalled scipy-1.4.1\n",
            "Successfully installed scipy-1.6.3\n",
            "Collecting elephant\n",
            "\u001b[?25l  Downloading https://files.pythonhosted.org/packages/0e/65/b4370f4d1a5ecfe07ba9aee921295ba22335eb6061d9db1aeda1f45c0602/elephant-0.10.0.tar.gz (2.0MB)\n",
            "\u001b[K     |████████████████████████████████| 2.0MB 5.0MB/s \n",
            "\u001b[?25hCollecting neo>=0.9.0\n",
            "\u001b[?25l  Downloading https://files.pythonhosted.org/packages/10/1b/bbd5e20934e21ebbae242cacc731a7f32aabfbf2677c240ef082165aea0c/neo-0.9.0.tar.gz (2.1MB)\n",
            "\u001b[K     |████████████████████████████████| 2.1MB 21.6MB/s \n",
            "\u001b[?25hRequirement already satisfied: numpy>=1.18.1 in /usr/local/lib/python3.7/dist-packages (from elephant) (1.19.5)\n",
            "Collecting quantities>=0.12.1\n",
            "\u001b[?25l  Downloading https://files.pythonhosted.org/packages/2b/4f/2e8ce7d6c16fb07c43036f8539962322b2bf241e7397e87f318a1aa2f7c4/quantities-0.12.4.tar.gz (83kB)\n",
            "\u001b[K     |████████████████████████████████| 92kB 9.5MB/s \n",
            "\u001b[?25hRequirement already satisfied: scipy>=1.5.4 in /usr/local/lib/python3.7/dist-packages (from elephant) (1.6.3)\n",
            "Requirement already satisfied: six>=1.10.0 in /usr/local/lib/python3.7/dist-packages (from elephant) (1.15.0)\n",
            "Requirement already satisfied: tqdm in /usr/local/lib/python3.7/dist-packages (from elephant) (4.41.1)\n",
            "Building wheels for collected packages: elephant, neo, quantities\n",
            "  Building wheel for elephant (setup.py) ... \u001b[?25l\u001b[?25hdone\n",
            "  Created wheel for elephant: filename=elephant-0.10.0-cp37-none-any.whl size=802397 sha256=1eefdf1fab1b1cc8b0115e18913f854ffe06ad477b26169d77b4237b77b14554\n",
            "  Stored in directory: /root/.cache/pip/wheels/94/e1/38/58327e45d5f6e9c7292fcbe15f894d2ec9f4ea776d3d286936\n",
            "  Building wheel for neo (setup.py) ... \u001b[?25l\u001b[?25hdone\n",
            "  Created wheel for neo: filename=neo-0.9.0-cp37-none-any.whl size=577981 sha256=ab1516ab1e5211308ec4fb1e0ce2485dfe9a557805c39e40c6dff9bc688d11c8\n",
            "  Stored in directory: /root/.cache/pip/wheels/7d/33/e6/665d4b8db6b43ee21468fdf757b19a971737276c9d41da7249\n",
            "  Building wheel for quantities (setup.py) ... \u001b[?25l\u001b[?25hdone\n",
            "  Created wheel for quantities: filename=quantities-0.12.4-cp37-none-any.whl size=79165 sha256=af17e76caab470649ffebbcb6b74179a300f77aefedba6a962e8d34ef1a4f117\n",
            "  Stored in directory: /root/.cache/pip/wheels/2c/27/a5/62fb2a57d167d7b7164278de7399ba1504321c1d6c3a3802d5\n",
            "Successfully built elephant neo quantities\n",
            "Installing collected packages: quantities, neo, elephant\n",
            "Successfully installed elephant-0.10.0 neo-0.9.0 quantities-0.12.4\n"
          ],
          "name": "stdout"
        }
      ]
    },
    {
      "cell_type": "code",
      "metadata": {
        "colab": {
          "base_uri": "https://localhost:8080/"
        },
        "id": "Bnt5UvfQxKjd",
        "outputId": "241d54ee-1471-4c2b-c93d-37ddd4fa827d"
      },
      "source": [
        "from brian2 import *\n",
        "from brian2tools import *\n",
        "import numpy as np\n",
        "import pandas as pd\n",
        "from scipy import io\n",
        "from scipy import sparse\n",
        "from scipy import stats\n",
        "import matplotlib.pyplot as plt\n",
        "import array as arr\n",
        "from google.colab import drive\n",
        "drive.mount('/content/gdrive')\n",
        "import sys\n",
        "sys.path.append('/content/gdrive/MyDrive/Figures_Package')"
      ],
      "execution_count": null,
      "outputs": [
        {
          "output_type": "stream",
          "text": [
            "Mounted at /content/gdrive\n"
          ],
          "name": "stdout"
        }
      ]
    },
    {
      "cell_type": "code",
      "metadata": {
        "id": "Ijt0DV0gxVAZ"
      },
      "source": [
        "#this function takes as input the first and second momentum of the weights population given in supp table 1 \n",
        "#it transforms the average and var into the average and std of a lognormal distribution (formulas taken from wikipedia)\n",
        "\n",
        "def process_params(av, av2):\n",
        "    var = (av2 - av**2)\n",
        "    \n",
        "    mu = np.log(av**2/(av**2 + var)**(1/2))\n",
        "    sigma = np.log(1 + var/av**2)\n",
        "    \n",
        "    return mu, sigma"
      ],
      "execution_count": null,
      "outputs": []
    },
    {
      "cell_type": "code",
      "metadata": {
        "id": "v4W8V56m_PGy"
      },
      "source": [
        "#the weight distribution parameters are processed and stored in non-array variables to be passed to brian\n",
        "#in the future let's just do this computation and store the values in a file to read\n",
        "\n",
        "avs = np.array([0.37, 0.66, 0.44, 0.54])\n",
        "avs2 = np.array([0.26, 0.65, 0.49, 0.53])\n",
        "\n",
        "lognormal_mu = []\n",
        "lognormal_std = []\n",
        "\n",
        "for i in range(len(avs)):\n",
        "    mu, sigma = process_params(avs[i], avs2[i])\n",
        "    lognormal_mu.append(mu)\n",
        "    lognormal_std.append(sigma)\n",
        "    \n",
        "ee_mu = lognormal_mu[0]\n",
        "ee_std = lognormal_std[0]\n",
        "ie_mu = lognormal_mu[1]\n",
        "ie_std = lognormal_std[1]\n",
        "ei_mu = lognormal_mu[2]\n",
        "ei_std = lognormal_std[2]\n",
        "ii_mu = lognormal_mu[3]\n",
        "ii_std = lognormal_std[3]"
      ],
      "execution_count": null,
      "outputs": []
    },
    {
      "cell_type": "code",
      "metadata": {
        "id": "jaG21ZW5xam9"
      },
      "source": [
        "initial_v = np.load('/content/gdrive/MyDrive/Figures_Package/Networks/initial_voltage.npy')"
      ],
      "execution_count": null,
      "outputs": []
    },
    {
      "cell_type": "code",
      "metadata": {
        "id": "JHa1t0TFbgDK"
      },
      "source": [
        "w_EE = sparse.load_npz('/content/gdrive/MyDrive/Figures_Package/Structured_Weigths/w_EE_sparse.npz')\n",
        "w_IE = sparse.load_npz('/content/gdrive/MyDrive/Figures_Package/Structured_Weigths/w_IE_sparse.npz')\n",
        "w_EI = sparse.load_npz('/content/gdrive/MyDrive/Figures_Package/Structured_Weigths/w_EI_sparse.npz')\n",
        "w_II = sparse.load_npz('/content/gdrive/MyDrive/Figures_Package/Structured_Weigths/w_II_sparse.npz')"
      ],
      "execution_count": null,
      "outputs": []
    },
    {
      "cell_type": "code",
      "metadata": {
        "id": "-mjQV7RhcA55"
      },
      "source": [
        "j_EE, i_EE, w_EE = sparse.find(w_EE)\n",
        "j_IE, i_IE, w_IE = sparse.find(w_IE)\n",
        "j_EI, i_EI, w_EI = sparse.find(w_EI)\n",
        "j_II, i_II, w_II = sparse.find(w_II)"
      ],
      "execution_count": null,
      "outputs": []
    },
    {
      "cell_type": "code",
      "metadata": {
        "id": "36HcX0yamCq0"
      },
      "source": [
        "patterns = pd.read_csv('/content/gdrive/MyDrive/Figures_Package/Structured_Weigths/patterns.csv',header=None)\n",
        "patterns = patterns.values\n",
        "pattern0 = patterns.T[0].astype(int64)\n",
        "pattern1 = patterns.T[1].astype(int64)\n",
        "pattern2=patterns.T[2].astype(int64)\n",
        "pattern3=patterns.T[3].astype(int64)\n",
        "#pattern4=patterns.T[4].astype(int64)\n",
        "#pattern5=patterns.T[5].astype(int64)\n",
        "#pattern6=patterns.T[6].astype(int64)"
      ],
      "execution_count": null,
      "outputs": []
    },
    {
      "cell_type": "code",
      "metadata": {
        "id": "hmel82hfxqv0"
      },
      "source": [
        "#define network parameters\n",
        "\n",
        "#total size of the network\n",
        "N = 40000\n",
        "\n",
        "#threshold, reset and refractory parameters\n",
        "v_theta = 33*mV\n",
        "v_reset = 24.75*mV\n",
        "tau_ref = 1*ms\n",
        "v_0 = -1000*mV\n",
        "\n",
        "#indices that delimit inhibitory and excitatory populations 20/80\n",
        "first_inh = 0\n",
        "last_inh = int(0.2*N)\n",
        "first_exc = last_inh\n",
        "last_exc = N\n",
        "\n",
        "\n",
        "#these are additional parameters to play with resizing of weights (in paper would be 1)\n",
        "g_E = 1\n",
        "g_I = 1\n",
        "\n",
        "\n",
        "#External drive to each population\n",
        "\n",
        "H_in = 57.8*mV\n",
        "H_ex = 77.6*mV\n",
        "#envelopes = np.array([((1.5 - 0.15*i)*pattern6 + (0.25 + 0.075*i)*ones(N) if i<10 else (ones(N))) for i in range(120)])\n",
        "#stimulus = TimedArray(envelopes, dt=25*ms)\n",
        "#envelopes = np.array([(1.5 - 0.15*i)*pattern6 + (0.25 + 0.075*i)*ones(N)  for i in range(11)])\n",
        "#stimulus = TimedArray(envelopes, dt=50*ms)\n",
        "#envelopes = np.array([(1.5 - 0.15*i)*pattern6 + (0.25 + 0.075*i)*ones(N)  for i in range(11)])\n",
        "#stimulus = TimedArray(envelopes, dt=50*ms)\n",
        "\n",
        "#envelopes1 = np.array([1.5*pattern1 + 0.25*ones(N) for i in range(10)])\n",
        "#envelopes2 = np.array([1.5*pattern2 + 0.25*ones(N) for i in range(20) if i>10])\n",
        "#envelopes3 = np.array([1.5*pattern3 + 0.25*ones(N) for i in range(30) if i>20])\n",
        "#envelopes=[*envelopes1, *envelopes2, *envelopes3]\n",
        "\n",
        "#envelopes = np.array([1.5*pattern6 + 0.25*ones(N) if i<11 else for in range(11)])\n",
        "#stimulus = TimedArray(envelopes, dt=200*ms)\n",
        "\n",
        "#albert tests on corrected matrices\n",
        "#envelopes = np.array([(1.5 - 0.15*i)*pattern0 + (0.25 + 0.075*i)*ones(N)  for i in range(11)])\n",
        "envelopes1 = np.array([((1.5 - 0.15*i)*pattern0 + (0.25 + 0.075*i)*ones(N) if i<10 else (ones(N))) for i in range(80)])\n",
        "envelopes2 = np.array([((1.5 - 0.15*i)*pattern1 + (0.25 + 0.075*i)*ones(N) if i<10 else (ones(N))) for i in range(80)])\n",
        "envelopes3 = np.array([((1.5 - 0.15*i)*pattern2 + (0.25 + 0.075*i)*ones(N) if i<10 else (ones(N))) for i in range(80)])\n",
        "envelopes=[*envelopes1, *envelopes2, *envelopes3]\n",
        "stimulus = TimedArray(envelopes, dt=25*ms)\n",
        "\n",
        "\n",
        "\n",
        "tau_in = np.log((H_in - v_reset)/(H_in - v_theta))*second;\n",
        "tau_ex = np.log((H_ex - v_reset)/(H_ex - v_theta))*second;\n",
        "\n",
        "\n",
        "#clear brian scope to reset any past variables\n",
        "start_scope()\n",
        "\n",
        "#define the model that each neuron will follow\n",
        "tau = 10*ms\n",
        "eqs = '''\n",
        "dv/dt = -(v - H_ext*stimulus(t, i))/tau : volt (unless refractory)\n",
        "H_ext : volt\n",
        "'''\n",
        "\n",
        "#the original network is defined\n",
        "all_neurons = NeuronGroup(N, eqs, threshold = 'v>v_theta', reset = 'v=v_reset', refractory = tau_ref, method = 'exact')\n",
        "\n",
        "#to work with subpopulations bria-n uses slicing notation\n",
        "in_neurons = all_neurons[first_inh:last_inh]\n",
        "ex_neurons = all_neurons[first_exc:last_exc]\n",
        "\n",
        "all_neurons.v = initial_v*mV\n",
        "\n",
        "#define external drive according to supp table 1\n",
        "in_neurons.H_ext = H_in\n",
        "ex_neurons.H_ext = H_ex\n",
        "#in_neurons.H = '(24 + 9.1*rand())*mV'\n",
        "#ex_neurons.H = '(24 + 9.1*rand())*mV'\n",
        "\n",
        "\n",
        "#initialize the synaptic object for the different subpopulation pairs\n",
        "S_EE = Synapses(ex_neurons, ex_neurons, 'w : volt', on_pre ='v += w')\n",
        "S_IE = Synapses(ex_neurons, in_neurons, 'w : volt', on_pre ='v += w')\n",
        "S_EI = Synapses(in_neurons, ex_neurons,'w : volt', on_pre ='v -= w')\n",
        "S_II = Synapses(in_neurons, in_neurons, 'w : volt', on_pre ='v -= w')\n",
        "\n",
        "\n",
        "#connect them according to probabilities in supp table 1\n",
        "S_EE.connect(i=i_EE, j=j_EE)\n",
        "S_IE.connect(i=i_IE, j=j_IE)\n",
        "S_EI.connect(i=i_EI, j=j_EI)\n",
        "S_II.connect(i=i_II, j=j_II)\n",
        "\n",
        "\n",
        "\n",
        "#distribute them log-normal according to parameters obtained in processing cells (beginning of notebook)\n",
        "S_EE.w = w_EE*mV\n",
        "S_IE.w = w_IE*mV\n",
        "S_EI.w = w_EI*mV\n",
        "S_II.w = w_II*mV\n",
        "\n",
        "\n",
        "\n",
        "#define monitoring variables. these can monitor the whole population or a desired subpopulation\n",
        "\n",
        "#monitors spiking events\n",
        "M_in = SpikeMonitor(in_neurons[400:500])\n",
        "M_ex = SpikeMonitor(ex_neurons[0:400])\n",
        "M=SpikeMonitor(all_neurons)\n",
        "M_i=SpikeMonitor(all_neurons[0:100])\n",
        "M_e=SpikeMonitor(all_neurons[last_inh:last_inh+400])\n",
        "\n",
        "#M2=SpikeMonitor(all_neurons2)\n",
        "#monitors voltage with time\n",
        "#V_all = StateMonitor(all_neurons, 'v', record = [1, 100, 10000, 32000])"
      ],
      "execution_count": null,
      "outputs": []
    },
    {
      "cell_type": "code",
      "metadata": {
        "id": "zz16_KY-_4kj",
        "colab": {
          "base_uri": "https://localhost:8080/"
        },
        "outputId": "5db2983f-095d-47dd-ab1d-04a126aedf0f"
      },
      "source": [
        "defaultclock.dt = 0.005*ms\n",
        "total_time = 6000*ms\n",
        "\n",
        "run(total_time, report = 'text')"
      ],
      "execution_count": null,
      "outputs": [
        {
          "output_type": "stream",
          "text": [
            "WARNING    \"i\" is an internal variable of group \"neurongroup\", but also exists in the run namespace with the value 3. The internal variable will be used. [brian2.groups.group.Group.resolve.resolution_conflict]\n"
          ],
          "name": "stderr"
        },
        {
          "output_type": "stream",
          "text": [
            "Starting simulation at t=0. s for a duration of 6. s\n",
            "85.825 ms (1%) simulated in 10s, estimated 11m 29s remaining.\n",
            "173.39 ms (2%) simulated in 20s, estimated 11m 12s remaining.\n",
            "264.505 ms (4%) simulated in 30s, estimated 10m 51s remaining.\n",
            "0.358805 s (5%) simulated in 40s, estimated 10m 29s remaining.\n",
            "0.452805 s (7%) simulated in 50s, estimated 10m 13s remaining.\n",
            "0.546395 s (9%) simulated in 1m 0s, estimated 9m 59s remaining.\n",
            "0.639555 s (10%) simulated in 1m 10s, estimated 9m 47s remaining.\n",
            "0.73326 s (12%) simulated in 1m 20s, estimated 9m 35s remaining.\n",
            "0.825585 s (13%) simulated in 1m 30s, estimated 9m 24s remaining.\n",
            "0.91606 s (15%) simulated in 1m 40s, estimated 9m 15s remaining.\n",
            "1.008925 s (16%) simulated in 1m 50s, estimated 9m 4s remaining.\n",
            "1.1011 s (18%) simulated in 2m 0s, estimated 8m 54s remaining.\n",
            "1.19405 s (19%) simulated in 2m 10s, estimated 8m 43s remaining.\n",
            "1.28638 s (21%) simulated in 2m 20s, estimated 8m 33s remaining.\n",
            "1.37994 s (22%) simulated in 2m 30s, estimated 8m 22s remaining.\n",
            "1.473705 s (24%) simulated in 2m 40s, estimated 8m 11s remaining.\n",
            "1.567995 s (26%) simulated in 2m 50s, estimated 8m 1s remaining.\n",
            "1.661675 s (27%) simulated in 3m 0s, estimated 7m 50s remaining.\n",
            "1.755855 s (29%) simulated in 3m 10s, estimated 7m 39s remaining.\n",
            "1.849595 s (30%) simulated in 3m 20s, estimated 7m 29s remaining.\n",
            "1.9442 s (32%) simulated in 3m 30s, estimated 7m 18s remaining.\n",
            "2.035075 s (33%) simulated in 3m 40s, estimated 7m 9s remaining.\n",
            "2.12252 s (35%) simulated in 3m 50s, estimated 7m 0s remaining.\n",
            "2.21418 s (36%) simulated in 4m 0s, estimated 6m 50s remaining.\n",
            "2.309275 s (38%) simulated in 4m 10s, estimated 6m 40s remaining.\n",
            "2.40395 s (40%) simulated in 4m 20s, estimated 6m 29s remaining.\n",
            "2.49853 s (41%) simulated in 4m 30s, estimated 6m 18s remaining.\n",
            "2.59388 s (43%) simulated in 4m 40s, estimated 6m 8s remaining.\n",
            "2.68934 s (44%) simulated in 4m 50s, estimated 5m 57s remaining.\n",
            "2.783855 s (46%) simulated in 5m 0s, estimated 5m 47s remaining.\n",
            "2.879005 s (47%) simulated in 5m 10s, estimated 5m 36s remaining.\n",
            "2.974455 s (49%) simulated in 5m 20s, estimated 5m 26s remaining.\n",
            "3.06878 s (51%) simulated in 5m 30s, estimated 5m 15s remaining.\n",
            "3.16333 s (52%) simulated in 5m 40s, estimated 5m 5s remaining.\n",
            "3.258535 s (54%) simulated in 5m 50s, estimated 4m 54s remaining.\n",
            "3.35349 s (55%) simulated in 6m 0s, estimated 4m 44s remaining.\n",
            "3.448425 s (57%) simulated in 6m 10s, estimated 4m 34s remaining.\n",
            "3.54291 s (59%) simulated in 6m 20s, estimated 4m 24s remaining.\n",
            "3.6374 s (60%) simulated in 6m 30s, estimated 4m 13s remaining.\n",
            "3.731675 s (62%) simulated in 6m 40s, estimated 4m 3s remaining.\n",
            "3.826645 s (63%) simulated in 6m 50s, estimated 3m 53s remaining.\n",
            "3.92149 s (65%) simulated in 7m 0s, estimated 3m 43s remaining.\n",
            "4.0149 s (66%) simulated in 7m 10s, estimated 3m 33s remaining.\n",
            "4.099325 s (68%) simulated in 7m 20s, estimated 3m 24s remaining.\n",
            "4.187925 s (69%) simulated in 7m 30s, estimated 3m 15s remaining.\n",
            "4.27971 s (71%) simulated in 7m 40s, estimated 3m 5s remaining.\n",
            "4.373245 s (72%) simulated in 7m 50s, estimated 2m 55s remaining.\n",
            "4.467655 s (74%) simulated in 8m 0s, estimated 2m 45s remaining.\n",
            "4.56141 s (76%) simulated in 8m 10s, estimated 2m 35s remaining.\n",
            "4.655485 s (77%) simulated in 8m 20s, estimated 2m 24s remaining.\n",
            "4.749205 s (79%) simulated in 8m 30s, estimated 2m 14s remaining.\n",
            "4.843225 s (80%) simulated in 8m 40s, estimated 2m 4s remaining.\n",
            "4.93733 s (82%) simulated in 8m 50s, estimated 1m 54s remaining.\n",
            "5.031105 s (83%) simulated in 9m 0s, estimated 1m 44s remaining.\n",
            "5.12461 s (85%) simulated in 9m 10s, estimated 1m 34s remaining.\n",
            "5.218125 s (86%) simulated in 9m 20s, estimated 1m 24s remaining.\n",
            "5.312175 s (88%) simulated in 9m 30s, estimated 1m 14s remaining.\n",
            "5.40643 s (90%) simulated in 9m 40s, estimated 1m 4s remaining.\n",
            "5.50025 s (91%) simulated in 9m 50s, estimated 54s remaining.\n",
            "5.594065 s (93%) simulated in 10m 0s, estimated 44s remaining.\n",
            "5.68811 s (94%) simulated in 10m 10s, estimated 33s remaining.\n",
            "5.782085 s (96%) simulated in 10m 20s, estimated 23s remaining.\n",
            "5.875435 s (97%) simulated in 10m 30s, estimated 13s remaining.\n",
            "5.96968 s (99%) simulated in 10m 40s, estimated 3s remaining.\n",
            "6. s (100%) simulated in 10m 43s\n"
          ],
          "name": "stdout"
        }
      ]
    },
    {
      "cell_type": "code",
      "metadata": {
        "id": "6VVI6Ym22LT-",
        "colab": {
          "base_uri": "https://localhost:8080/",
          "height": 248
        },
        "outputId": "2bdff170-36ed-4ba9-aad6-187ff7c1feb2"
      },
      "source": [
        "import seaborn as sns\n",
        "from matplotlib.patches import Rectangle \n",
        "spike_timings_in = M_in.t/second\n",
        "spike_indices_in = M_in.i[:]\n",
        "spike_timings_ex = M_ex.t/second\n",
        "spike_indices_ex = M_ex.i[:]\n",
        "plt.figure(figsize=(9, 4))\n",
        "scatter(spike_timings_ex, spike_indices_ex+100 , marker = '_', color = 'b', s=1)\n",
        "scatter(spike_timings_in, spike_indices_in , marker = '_', color = 'r', s=1)\n",
        "rect=Rectangle((0,0),0.1,500, alpha=0.7, color='grey')\n",
        "plt.gca().add_patch(rect);\n",
        "rect2=Rectangle((2,0),0.1,500,alpha=0.7, color='grey' )\n",
        "plt.gca().add_patch(rect2);\n",
        "rect3=Rectangle((4,0),0.1,500,alpha=0.7, color='grey' )\n",
        "plt.gca().add_patch(rect3);\n",
        "plt.yticks([])\n",
        "frame1 = plt.gca()\n",
        "frame1.axes.xaxis.set_ticklabels([])\n",
        "sns.despine(top=True, right=True, left=True, bottom=True)\n",
        "#plt.show()\n",
        "plt.savefig('/content/gdrive/MyDrive/Figures_Package/Figures/figure5A_raster.png', dpi=300)"
      ],
      "execution_count": null,
      "outputs": [
        {
          "output_type": "display_data",
          "data": {
            "image/png": "[encoded data removed]",
            "text/plain": [
              "<Figure size 648x288 with 1 Axes>"
            ]
          },
          "metadata": {
            "tags": [],
            "needs_background": "light"
          }
        }
      ]
    },
    {
      "cell_type": "markdown",
      "metadata": {
        "id": "PqaygpoRWlz8"
      },
      "source": [
        "**THIS WILL BE IT:**"
      ]
    },
    {
      "cell_type": "code",
      "metadata": {
        "id": "xbgG0lsW0B4W"
      },
      "source": [
        "# Convert brian2_obj into numpy array\n",
        "def export_brian2(brian_obj):\n",
        "\n",
        "  \"\"\"\n",
        "  inputs:\n",
        "  brian2_obj = a brian2_obj type variable\n",
        "\n",
        "  outputs:\n",
        "  spike_indices = measured values\n",
        "  spike_times = times of measurements (in ms)\n",
        "  \"\"\"\n",
        "  spike_indices = np.array(brian_obj.i)\n",
        "  spike_times =  np.array(brian_obj.t) # time in ms\n",
        "\n",
        "  return spike_indices, spike_times"
      ],
      "execution_count": null,
      "outputs": []
    },
    {
      "cell_type": "code",
      "metadata": {
        "id": "dkltaG0lfCLC"
      },
      "source": [
        "# Calculate firing rate for time bins\n",
        "def firing_rate_b(brian2_obj,all_neurons,t0,t_end, time_window):\n",
        "\n",
        "  \"\"\"\n",
        "  inputs:\n",
        "  brian2_obj = a brian2_obj type variable\n",
        "  all_neurons = all_neurons variable\n",
        "  time_window = the size of the time window in sec\n",
        "  t0 = look timepoint from t0 (in sec)\n",
        "  t_end = end of the firing rate calculation (in sec)\n",
        "\n",
        "  outputs:\n",
        "  output = all the firing rate values in an array (columns=neurons, rows=time bins)\n",
        "  \"\"\"\n",
        "  [spike_indices,spike_times] = export_brian2(brian2_obj) #convert input brian2_obj type to numpy arrays (values and times)\n",
        "  \"\"\" error messages \"\"\"\n",
        "  if t0>t_end:\n",
        "    raise Exception(\"The t_0 should be smaller than t_end\")\n",
        "  if t0> max(spike_times) or t_end > max(spike_times):\n",
        "    raise Exception(\"Please give a number for t0 and t_end that is smaller than \",max(spike_times))\n",
        "  \n",
        "  \"\"\"basic variables\"\"\"\n",
        "  num_time_bins = int((t_end-t0)/time_window) #calculate number of time windows between start end end time\n",
        "  num_neur = len(all_neurons) #give the highest number of neuron indexes ->this will give the number of rows at the output\n",
        "  print(num_time_bins,num_neur)\n",
        "  output = np.zeros((num_time_bins,num_neur)) #empty matrix variable\n",
        "  #T = time_window/1000 #time window size in sec\n",
        "  start = t0 #start time in sec\n",
        "\n",
        "  \"\"\"calculations\"\"\"\n",
        "  for idt in range(0,num_time_bins): #iterate through all the time window\n",
        "    inp_t = [] #variable for time points at the time window examined\n",
        "    inp_n = []   #variable for neuron activities at the time window examined\n",
        "    neur_bin = [] #variable for neuron activities at the neuron examined\n",
        "\n",
        "    inp_t = np.where(np.logical_and(spike_times>=start, spike_times<=start+time_window)) #get time point's indexes at the time window examined\n",
        "    inp_n = spike_indices[inp_t] #get neurons at the time window examined\n",
        "    for idn in np.unique(inp_n): #iterate through neurons\n",
        "      neur_bin.append(np.where(inp_n==idn)) #get the number of activities of a single neuron in the time window\n",
        "      if len(neur_bin)==0: #if there are no activities the firing rate is 0\n",
        "        output[idt][idn] = 0\n",
        "      else:\n",
        "        output[idt][idn] = len(neur_bin)/(time_window*1000) #calculate firing rate\n",
        "        #print(len(neur_bin)/(time_window*1000))\n",
        "      neur_bin = []\n",
        "    start = start+time_window\n",
        "   \n",
        "\n",
        "  return output\n"
      ],
      "execution_count": null,
      "outputs": []
    },
    {
      "cell_type": "code",
      "metadata": {
        "id": "DsgL63HVXQLz",
        "colab": {
          "base_uri": "https://localhost:8080/"
        },
        "outputId": "f6beb900-3a04-42fd-8bca-73f861b67252"
      },
      "source": [
        "#import sys\n",
        "fir1=firing_rate_b(M,all_neurons,0.01,5.999974,0.01)\n",
        "#np.set_printoptions(threshold=sys.maxsize) #this print the full matrix threshold=sys.maxsize\n",
        "#[spike_indices,spike_times] = export_brian2(M)\n",
        "#print(fir1)\n",
        "len(fir1[0])"
      ],
      "execution_count": null,
      "outputs": [
        {
          "output_type": "stream",
          "text": [
            "598 40000\n"
          ],
          "name": "stdout"
        },
        {
          "output_type": "execute_result",
          "data": {
            "text/plain": [
              "40000"
            ]
          },
          "metadata": {
            "tags": []
          },
          "execution_count": 14
        }
      ]
    },
    {
      "cell_type": "code",
      "metadata": {
        "id": "ZxlMK4PXNSrG"
      },
      "source": [
        "def correlation(fir1,pattern):\n",
        "  patt=pattern[0:40000]\n",
        "  patt=patt/np.linalg.norm(pattern)\n",
        "  corr=np.empty([598,1])\n",
        "  #print(corr)\n",
        "  for binid in range(len(fir1)):\n",
        "    firneurons=fir1[binid]\n",
        "    firneurons=firneurons/np.linalg.norm(firneurons)\n",
        "    dot=numpy.dot(firneurons, patt)\n",
        "    #print(dot)\n",
        "    corr[binid]=dot\n",
        "  return corr"
      ],
      "execution_count": null,
      "outputs": []
    },
    {
      "cell_type": "code",
      "metadata": {
        "id": "kdW7F-c8U3UB"
      },
      "source": [
        "corr=correlation(fir1,pattern0)\n",
        "corr2=correlation(fir1,pattern1)\n",
        "corr3=correlation(fir1,pattern2)\n",
        "#corr2=correlation(fir1,pattern4)"
      ],
      "execution_count": null,
      "outputs": []
    },
    {
      "cell_type": "code",
      "metadata": {
        "id": "wUgVqkYuwV7A",
        "colab": {
          "base_uri": "https://localhost:8080/",
          "height": 177
        },
        "outputId": "4bcc65f7-3b70-48d8-e9da-71eaff181f6b"
      },
      "source": [
        "time=numpy.linspace(1, 598, num=598)\n",
        "plt.figure(figsize=(9, 2))\n",
        "plt.plot(10*time,corr)\n",
        "plt.plot(10*time,corr3)\n",
        "plt.plot(10*time,corr2)\n",
        "k=[0,100]\n",
        "v=[0.5,0.5]\n",
        "\n",
        "k4=[2000,2100]\n",
        "v4=[0.5,0.5]\n",
        "k5=[4000,4100]\n",
        "v5=[0.5,0.5]\n",
        "\n",
        "plt.fill_between(k,v, alpha=0.7, color='grey')\n",
        "plt.fill_between(k4,v4, alpha=0.7, color='grey')\n",
        "plt.fill_between(k5,v5, alpha=0.7, color='grey')\n",
        "plt.yticks(fontsize=13)\n",
        "plt.xticks(fontsize=13)\n",
        "plt.xlim(0,6000)\n",
        "plt.ylabel(\"Overlap\",fontsize=13)\n",
        "xlabel(\"Time (ms)\",fontsize=13)\n",
        "sns.despine(top=True, right=True, left=False, bottom=False)\n",
        "#plt.show()\n",
        "plt.savefig('/content/gdrive/MyDrive/Figures_Package/Figures/figure5A_overlap.png', dpi=300, bbox_inches = 'tight')\n"
      ],
      "execution_count": null,
      "outputs": [
        {
          "output_type": "display_data",
          "data": {
            "image/png": "[encoded data removed]",
            "text/plain": [
              "<Figure size 648x144 with 1 Axes>"
            ]
          },
          "metadata": {
            "tags": [],
            "needs_background": "light"
          }
        }
      ]
    },
    {
      "cell_type": "code",
      "metadata": {
        "id": "WKv_-bX3tX2a"
      },
      "source": [
        ""
      ],
      "execution_count": null,
      "outputs": []
    }
  ]
}