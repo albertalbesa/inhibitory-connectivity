{
  "nbformat": 4,
  "nbformat_minor": 0,
  "metadata": {
    "colab": {
      "name": "Figure 7",
      "provenance": [],
      "collapsed_sections": [],
      "machine_shape": "hm"
    },
    "kernelspec": {
      "display_name": "Python 3",
      "name": "python3"
    },
    "language_info": {
      "name": "python"
    }
  },
  "cells": [
    {
      "cell_type": "code",
      "metadata": {
        "colab": {
          "base_uri": "https://localhost:8080/"
        },
        "id": "UvhQeImBwNFU",
        "outputId": "7d60e20c-c00c-4c6e-f38f-af543dc7e804"
      },
      "source": [
        "%pip install brian2\n",
        "%pip install brian2tools\n",
        "%pip install scipy\n",
        "!pip install --upgrade scipy"
      ],
      "execution_count": null,
      "outputs": [
        {
          "output_type": "stream",
          "text": [
            "Collecting brian2\n",
            "\u001b[?25l  Downloading https://files.pythonhosted.org/packages/9a/c7/565012c479953d041d5e828938515d3c402d0c3f4942180f1c44cb0f472e/Brian2-2.4.2.tar.gz (1.2MB)\n",
            "\u001b[K     |████████████████████████████████| 1.2MB 4.3MB/s \n",
            "\u001b[?25hRequirement already satisfied: numpy>=1.15 in /usr/local/lib/python3.7/dist-packages (from brian2) (1.19.5)\n",
            "Requirement already satisfied: cython>=0.29 in /usr/local/lib/python3.7/dist-packages (from brian2) (0.29.22)\n",
            "Requirement already satisfied: sympy>=1.2 in /usr/local/lib/python3.7/dist-packages (from brian2) (1.7.1)\n",
            "Requirement already satisfied: pyparsing in /usr/local/lib/python3.7/dist-packages (from brian2) (2.4.7)\n",
            "Requirement already satisfied: jinja2>=2.7 in /usr/local/lib/python3.7/dist-packages (from brian2) (2.11.3)\n",
            "Requirement already satisfied: setuptools>=24.2 in /usr/local/lib/python3.7/dist-packages (from brian2) (56.1.0)\n",
            "Requirement already satisfied: mpmath>=0.19 in /usr/local/lib/python3.7/dist-packages (from sympy>=1.2->brian2) (1.2.1)\n",
            "Requirement already satisfied: MarkupSafe>=0.23 in /usr/local/lib/python3.7/dist-packages (from jinja2>=2.7->brian2) (1.1.1)\n",
            "Building wheels for collected packages: brian2\n",
            "  Building wheel for brian2 (setup.py) ... \u001b[?25l\u001b[?25hdone\n",
            "  Created wheel for brian2: filename=Brian2-2.4.2-cp37-cp37m-linux_x86_64.whl size=1257119 sha256=ceef65f4618312a4ba5fac17455192721530d5a4205d249ee0490a5b425f2ef9\n",
            "  Stored in directory: /root/.cache/pip/wheels/5d/4b/cf/ef50e71df5479d67f981cbb17b1d842381019d27ba144d57de\n",
            "Successfully built brian2\n",
            "Installing collected packages: brian2\n",
            "Successfully installed brian2-2.4.2\n",
            "Collecting brian2tools\n",
            "  Downloading https://files.pythonhosted.org/packages/a4/69/e60d50a603d764e16f352ee65c538625ba2524e2d8ecf6d417e8885589eb/brian2tools-0.2.1.1-py2.py3-none-any.whl\n",
            "Collecting setuptools-scm\n",
            "  Downloading https://files.pythonhosted.org/packages/c4/d5/e50358c82026f44cd8810c8165002746cd3f8b78865f6bcf5d7f0fe4f652/setuptools_scm-6.0.1-py3-none-any.whl\n",
            "Requirement already satisfied: brian2>=2.0 in /usr/local/lib/python3.7/dist-packages (from brian2tools) (2.4.2)\n",
            "Requirement already satisfied: matplotlib>=1.3.1 in /usr/local/lib/python3.7/dist-packages (from brian2tools) (3.2.2)\n",
            "Collecting pylems>=0.4.9\n",
            "\u001b[?25l  Downloading https://files.pythonhosted.org/packages/44/57/23341fb878a3d90534bf01cdcb5207cdb7698ba63cee552e71e5d96dcda7/PyLEMS-0.5.2-py3-none-any.whl (64kB)\n",
            "\u001b[K     |████████████████████████████████| 71kB 5.8MB/s \n",
            "\u001b[?25hRequirement already satisfied: setuptools in /usr/local/lib/python3.7/dist-packages (from brian2tools) (56.1.0)\n",
            "Requirement already satisfied: sympy>=1.2 in /usr/local/lib/python3.7/dist-packages (from brian2>=2.0->brian2tools) (1.7.1)\n",
            "Requirement already satisfied: numpy>=1.15 in /usr/local/lib/python3.7/dist-packages (from brian2>=2.0->brian2tools) (1.19.5)\n",
            "Requirement already satisfied: jinja2>=2.7 in /usr/local/lib/python3.7/dist-packages (from brian2>=2.0->brian2tools) (2.11.3)\n",
            "Requirement already satisfied: pyparsing in /usr/local/lib/python3.7/dist-packages (from brian2>=2.0->brian2tools) (2.4.7)\n",
            "Requirement already satisfied: cython>=0.29 in /usr/local/lib/python3.7/dist-packages (from brian2>=2.0->brian2tools) (0.29.22)\n",
            "Requirement already satisfied: python-dateutil>=2.1 in /usr/local/lib/python3.7/dist-packages (from matplotlib>=1.3.1->brian2tools) (2.8.1)\n",
            "Requirement already satisfied: cycler>=0.10 in /usr/local/lib/python3.7/dist-packages (from matplotlib>=1.3.1->brian2tools) (0.10.0)\n",
            "Requirement already satisfied: kiwisolver>=1.0.1 in /usr/local/lib/python3.7/dist-packages (from matplotlib>=1.3.1->brian2tools) (1.3.1)\n",
            "Requirement already satisfied: lxml in /usr/local/lib/python3.7/dist-packages (from pylems>=0.4.9->brian2tools) (4.2.6)\n",
            "Requirement already satisfied: mpmath>=0.19 in /usr/local/lib/python3.7/dist-packages (from sympy>=1.2->brian2>=2.0->brian2tools) (1.2.1)\n",
            "Requirement already satisfied: MarkupSafe>=0.23 in /usr/local/lib/python3.7/dist-packages (from jinja2>=2.7->brian2>=2.0->brian2tools) (1.1.1)\n",
            "Requirement already satisfied: six>=1.5 in /usr/local/lib/python3.7/dist-packages (from python-dateutil>=2.1->matplotlib>=1.3.1->brian2tools) (1.15.0)\n",
            "Installing collected packages: setuptools-scm, pylems, brian2tools\n",
            "Successfully installed brian2tools-0.2.1.1 pylems-0.5.2 setuptools-scm-6.0.1\n",
            "Requirement already satisfied: scipy in /usr/local/lib/python3.7/dist-packages (1.4.1)\n",
            "Requirement already satisfied: numpy>=1.13.3 in /usr/local/lib/python3.7/dist-packages (from scipy) (1.19.5)\n",
            "Collecting scipy\n",
            "\u001b[?25l  Downloading https://files.pythonhosted.org/packages/7d/e8/43ffca541d2f208d516296950b25fe1084b35c2881f4d444c1346ca75815/scipy-1.6.3-cp37-cp37m-manylinux1_x86_64.whl (27.4MB)\n",
            "\u001b[K     |████████████████████████████████| 27.4MB 75.1MB/s \n",
            "\u001b[?25hRequirement already satisfied, skipping upgrade: numpy<1.23.0,>=1.16.5 in /usr/local/lib/python3.7/dist-packages (from scipy) (1.19.5)\n",
            "\u001b[31mERROR: albumentations 0.1.12 has requirement imgaug<0.2.7,>=0.2.5, but you'll have imgaug 0.2.9 which is incompatible.\u001b[0m\n",
            "Installing collected packages: scipy\n",
            "  Found existing installation: scipy 1.4.1\n",
            "    Uninstalling scipy-1.4.1:\n",
            "      Successfully uninstalled scipy-1.4.1\n",
            "Successfully installed scipy-1.6.3\n"
          ],
          "name": "stdout"
        }
      ]
    },
    {
      "cell_type": "code",
      "metadata": {
        "colab": {
          "base_uri": "https://localhost:8080/"
        },
        "id": "Bnt5UvfQxKjd",
        "outputId": "1f14f01e-1efb-4345-d8de-4f6957bb040a"
      },
      "source": [
        "from brian2 import *\n",
        "from brian2tools import *\n",
        "import numpy as np\n",
        "import pandas as pd\n",
        "from scipy import io\n",
        "from scipy import sparse\n",
        "from google.colab import drive\n",
        "drive.mount('/content/gdrive')\n",
        "import sys\n",
        "sys.path.append('/content/gdrive/MyDrive/Figures_Package')\n",
        "import seaborn as sns"
      ],
      "execution_count": null,
      "outputs": [
        {
          "output_type": "stream",
          "text": [
            "Drive already mounted at /content/gdrive; to attempt to forcibly remount, call drive.mount(\"/content/gdrive\", force_remount=True).\n"
          ],
          "name": "stdout"
        }
      ]
    },
    {
      "cell_type": "code",
      "metadata": {
        "id": "jaG21ZW5xam9"
      },
      "source": [
        "initial_v = np.load('/content/gdrive/MyDrive/Figures_Package/Networks/initial_voltage.npy')"
      ],
      "execution_count": null,
      "outputs": []
    },
    {
      "cell_type": "code",
      "metadata": {
        "id": "VoVrKmhqfxOh"
      },
      "source": [
        "w_EE = sparse.load_npz('/content/gdrive/MyDrive/Figures_Package/Session_Matrices/w_EE1.npz')\n",
        "w_IE = sparse.load_npz('/content/gdrive/MyDrive/Figures_Package/Session_Matrices/w_IE_sparse.npz')\n",
        "w_EI = sparse.load_npz('/content/gdrive/MyDrive/Figures_Package/Session_Matrices/w_EI_sparse.npz')\n",
        "w_II = sparse.load_npz('/content/gdrive/MyDrive/Figures_Package/Session_Matrices/w_II_sparse.npz')"
      ],
      "execution_count": null,
      "outputs": []
    },
    {
      "cell_type": "code",
      "metadata": {
        "id": "2kkAv33Zop-B"
      },
      "source": [
        "j_EE, i_EE, w_EE = sparse.find(w_EE)\n",
        "j_IE, i_IE, w_IE = sparse.find(w_IE)\n",
        "j_EI, i_EI, w_EI = sparse.find(w_EI)\n",
        "j_II, i_II, w_II = sparse.find(w_II)"
      ],
      "execution_count": null,
      "outputs": []
    },
    {
      "cell_type": "code",
      "metadata": {
        "id": "kqWIZTK_nphH"
      },
      "source": [
        "N_E = 32000\n",
        "f = 0.2\n",
        "num_targetted = int(N_E*f)\n",
        "#all_ex = np.arange(N_E)\n",
        "#aux = np.zeros((N_E, N_E))\n",
        "#aux[j_EE, i_EE] = w_EE\n",
        "#target_ids = np.random.choice(N_E, num_targetted)"
      ],
      "execution_count": null,
      "outputs": []
    },
    {
      "cell_type": "code",
      "metadata": {
        "id": "Qd35AwJyn41-"
      },
      "source": [
        "#we need the firings distribution for the target neurons\n",
        "\n",
        "def process_params(av, av2):\n",
        "    var = (av2 - av**2) \n",
        "    mu = np.log(av**2/(av**2 + var)**(1/2))\n",
        "    sigma = np.log(1 + var/av**2) \n",
        "    return mu, sigma\n",
        "\n",
        "avs = np.array([0.37, 0.66, 0.44, 0.54])\n",
        "avs2 = np.array([0.26, 0.65, 0.49, 0.53])\n",
        "\n",
        "lognormal_mu = []\n",
        "lognormal_std = []\n",
        "\n",
        "for i in range(len(avs)):\n",
        "    mu, sigma = process_params(avs[i], avs2[i])\n",
        "    lognormal_mu.append(mu)\n",
        "    lognormal_std.append(sigma)\n",
        "    \n",
        "ee_mu = lognormal_mu[0]\n",
        "ee_std = lognormal_std[0]\n",
        "ie_mu = lognormal_mu[1]\n",
        "ie_std = lognormal_std[1]\n",
        "ei_mu = lognormal_mu[2]\n",
        "ei_std = lognormal_std[2]\n",
        "ii_mu = lognormal_mu[3]\n",
        "ii_std = lognormal_std[3]"
      ],
      "execution_count": null,
      "outputs": []
    },
    {
      "cell_type": "code",
      "metadata": {
        "colab": {
          "base_uri": "https://localhost:8080/"
        },
        "id": "1whEYiZ0gUcc",
        "outputId": "24f29ba1-c022-4389-b12f-434ca32ec166"
      },
      "source": [
        "num_targetted"
      ],
      "execution_count": null,
      "outputs": [
        {
          "output_type": "execute_result",
          "data": {
            "text/plain": [
              "640"
            ]
          },
          "metadata": {
            "tags": []
          },
          "execution_count": 17
        }
      ]
    },
    {
      "cell_type": "code",
      "metadata": {
        "id": "hmel82hfxqv0"
      },
      "source": [
        "#define network parameters\n",
        "\n",
        "#total size of the network\n",
        "N = 40000\n",
        "\n",
        "#threshold, reset and refractory parameters\n",
        "v_theta = 33*mV\n",
        "v_reset = 24.75*mV\n",
        "tau_ref = 1*ms\n",
        "v_0 = -1000*mV\n",
        "\n",
        "#indices that delimit inhibitory and excitatory populations 20/80\n",
        "first_inh = 0\n",
        "last_inh = int(0.2*N)\n",
        "first_exc = last_inh\n",
        "last_exc = N\n",
        "\n",
        "\n",
        "#these are additional parameters to play with resizing of weights (in paper would be 1)\n",
        "g_E = 1\n",
        "g_I = 1\n",
        "\n",
        "\n",
        "#External drive to each population\n",
        "\n",
        "H_in = 57.8*mV\n",
        "H_ex = 77.6*mV\n",
        "\n",
        "tau_in = np.log((H_in - v_reset)/(H_in - v_theta))*second;\n",
        "tau_ex = np.log((H_ex - v_reset)/(H_ex - v_theta))*second;\n",
        "\n",
        "\n",
        "#clear brian scope to reset any past variables\n",
        "start_scope()\n",
        "\n",
        "#define the model that each neuron will follow\n",
        "tau = 10*ms\n",
        "eqs = '''\n",
        "dv/dt = -(v - H_ext)/tau : volt (unless refractory)\n",
        "H_ext : volt\n",
        "'''\n",
        "\n",
        "#the original network is defined\n",
        "all_neurons = NeuronGroup(N, eqs, threshold = 'v>v_theta', reset = 'v=v_reset', refractory = tau_ref, method = 'exact')\n",
        "\n",
        "#to work with subpopulations bria-n uses slicing notation\n",
        "in_neurons = all_neurons[first_inh:last_inh]\n",
        "ex_neurons = all_neurons[first_exc:last_exc]\n",
        "target_neurons = ex_neurons[:num_targetted]\n",
        "\n",
        "all_neurons.v = initial_v*mV\n",
        "\n",
        "#define external drive according to supp table 1\n",
        "in_neurons.H_ext = H_in\n",
        "ex_neurons.H_ext = H_ex\n",
        "\n",
        "\n",
        "#initialize the synaptic object for the different subpopulation pairs\n",
        "S_EE = Synapses(ex_neurons, ex_neurons, 'w : volt', on_pre ='v += w')\n",
        "S_IE = Synapses(ex_neurons, in_neurons, 'w : volt', on_pre ='v += w')\n",
        "S_EI = Synapses(in_neurons, ex_neurons,'w : volt', on_pre ='v -= w')\n",
        "S_II = Synapses(in_neurons, in_neurons, 'w : volt', on_pre ='v -= w')\n",
        "\n",
        "\n",
        "#initialize the synaptic object for the different subpopulation pairs\n",
        "#connect them according to probabilities in supp table 1\n",
        "S_EE.connect(i=i_EE, j=j_EE)\n",
        "S_IE.connect(i=i_IE, j=j_IE)\n",
        "S_EI.connect(i=i_EI, j=j_EI)\n",
        "S_II.connect(i=i_II, j=j_II)\n",
        "\n",
        "S_EE.w = w_EE*mV\n",
        "S_IE.w = w_IE*volt\n",
        "S_EI.w = w_EI*volt\n",
        "S_II.w = w_II*volt\n",
        "\n",
        "\n",
        "#create additional synapses between a fraction f of the excitatory and the rest of the exc neurons\n",
        "S_target = Synapses(ex_neurons, target_neurons, 'w : volt', on_pre ='v += w')\n",
        "S_target.connect(p = 0.04)\n",
        "S_target.w = 'exp(ee_mu + ee_std*randn())*mV'\n",
        "\n",
        "\n",
        "#monitors spiking events\n",
        "M_in = SpikeMonitor(in_neurons)\n",
        "M_ex = SpikeMonitor(ex_neurons)\n",
        "M_ex_targ = SpikeMonitor(ex_neurons[:num_targetted])\n",
        "M_ex_not_targ = SpikeMonitor(ex_neurons[num_targetted:])"
      ],
      "execution_count": null,
      "outputs": []
    },
    {
      "cell_type": "code",
      "metadata": {
        "colab": {
          "base_uri": "https://localhost:8080/"
        },
        "id": "taM1iRywi9nG",
        "outputId": "fb63f22b-1ed1-402c-c640-48a3bf8d9eab"
      },
      "source": [
        "S_target.w.shape"
      ],
      "execution_count": null,
      "outputs": [
        {
          "output_type": "execute_result",
          "data": {
            "text/plain": [
              "(8189297,)"
            ]
          },
          "metadata": {
            "tags": []
          },
          "execution_count": 22
        }
      ]
    },
    {
      "cell_type": "code",
      "metadata": {
        "id": "v5mpxCC2jQV4"
      },
      "source": [
        "#N_E = 32000\n",
        "#N_I = 8000\n",
        "#super_path = '/content/gdrive/MyDrive/Figures_Package/Session_Matrices/'\n",
        "\n",
        "#w_IE = zeros((N_I, N_E))\n",
        "#w_IE[S_IE.j, S_IE.i] = S_IE.w\n",
        "#w_IE = sparse.csc_matrix(w_IE)\n",
        "#path_IE = super_path + 'w_IE_sparse.npz'\n",
        "#sparse.save_npz(path_IE, w_IE)\n",
        "\n",
        "#w_EI = zeros((N_E, N_I))\n",
        "#w_EI[S_EI.j, S_EI.i] = S_EI.w\n",
        "#w_EI = sparse.csc_matrix(w_EI)\n",
        "#path_EI = super_path + 'w_EI_sparse.npz'\n",
        "#sparse.save_npz(path_EI, w_EI)\n",
        "#w_II = zeros((N_I, N_I))\n",
        "\n",
        "#w_II[S_II.j, S_II.i] = S_II.w\n",
        "#w_II = sparse.csc_matrix(w_II)\n",
        "#sparse.save_npz(path_II, w_II)\n",
        "#path_II = super_path + 'w_II_sparse.npz'"
      ],
      "execution_count": null,
      "outputs": []
    },
    {
      "cell_type": "code",
      "metadata": {
        "colab": {
          "base_uri": "https://localhost:8080/"
        },
        "id": "zz16_KY-_4kj",
        "outputId": "a8bfa990-1531-4df5-f89d-5e4eb2ab06a9"
      },
      "source": [
        "defaultclock.dt = 0.005*ms\n",
        "total_time = 10000*ms\n",
        "\n",
        "run(total_time, report = 'text')"
      ],
      "execution_count": null,
      "outputs": [
        {
          "output_type": "stream",
          "text": [
            "Starting simulation at t=0. s for a duration of 10. s\n",
            "164.575 ms (1%) simulated in 10s, estimated 9m 58s remaining.\n",
            "0.32765 s (3%) simulated in 20s, estimated 9m 50s remaining.\n",
            "0.490185 s (4%) simulated in 30s, estimated 9m 42s remaining.\n",
            "0.652315 s (6%) simulated in 40s, estimated 9m 33s remaining.\n",
            "0.81424 s (8%) simulated in 50s, estimated 9m 24s remaining.\n",
            "0.976865 s (9%) simulated in 1m 0s, estimated 9m 14s remaining.\n",
            "1.14044 s (11%) simulated in 1m 10s, estimated 9m 4s remaining.\n",
            "1.302915 s (13%) simulated in 1m 20s, estimated 8m 54s remaining.\n",
            "1.465725 s (14%) simulated in 1m 30s, estimated 8m 44s remaining.\n",
            "1.62896 s (16%) simulated in 1m 40s, estimated 8m 34s remaining.\n",
            "1.79086 s (17%) simulated in 1m 50s, estimated 8m 24s remaining.\n",
            "1.953465 s (19%) simulated in 2m 0s, estimated 8m 14s remaining.\n",
            "2.115645 s (21%) simulated in 2m 10s, estimated 8m 4s remaining.\n",
            "2.27852 s (22%) simulated in 2m 20s, estimated 7m 54s remaining.\n",
            "2.44213 s (24%) simulated in 2m 30s, estimated 7m 44s remaining.\n",
            "2.604975 s (26%) simulated in 2m 40s, estimated 7m 34s remaining.\n",
            "2.768385 s (27%) simulated in 2m 50s, estimated 7m 24s remaining.\n",
            "2.93138 s (29%) simulated in 3m 0s, estimated 7m 14s remaining.\n",
            "3.09378 s (30%) simulated in 3m 10s, estimated 7m 4s remaining.\n",
            "3.255835 s (32%) simulated in 3m 20s, estimated 6m 54s remaining.\n",
            "3.41802 s (34%) simulated in 3m 30s, estimated 6m 44s remaining.\n",
            "3.58122 s (35%) simulated in 3m 40s, estimated 6m 34s remaining.\n",
            "3.74365 s (37%) simulated in 3m 50s, estimated 6m 24s remaining.\n",
            "3.90557 s (39%) simulated in 4m 0s, estimated 6m 15s remaining.\n",
            "4.06824 s (40%) simulated in 4m 10s, estimated 6m 5s remaining.\n",
            "4.230045 s (42%) simulated in 4m 20s, estimated 5m 55s remaining.\n",
            "4.38312 s (43%) simulated in 4m 30s, estimated 5m 46s remaining.\n",
            "4.542655 s (45%) simulated in 4m 40s, estimated 5m 36s remaining.\n",
            "4.705655 s (47%) simulated in 4m 50s, estimated 5m 26s remaining.\n",
            "4.869675 s (48%) simulated in 5m 0s, estimated 5m 16s remaining.\n",
            "5.03358 s (50%) simulated in 5m 10s, estimated 5m 6s remaining.\n",
            "5.19716 s (51%) simulated in 5m 20s, estimated 4m 56s remaining.\n",
            "5.360515 s (53%) simulated in 5m 30s, estimated 4m 46s remaining.\n",
            "5.52421 s (55%) simulated in 5m 40s, estimated 4m 35s remaining.\n",
            "5.68729 s (56%) simulated in 5m 50s, estimated 4m 25s remaining.\n",
            "5.85007 s (58%) simulated in 6m 0s, estimated 4m 15s remaining.\n",
            "6.013895 s (60%) simulated in 6m 10s, estimated 4m 5s remaining.\n",
            "6.17596 s (61%) simulated in 6m 20s, estimated 3m 55s remaining.\n",
            "6.33824 s (63%) simulated in 6m 30s, estimated 3m 45s remaining.\n",
            "6.501775 s (65%) simulated in 6m 40s, estimated 3m 35s remaining.\n",
            "6.664895 s (66%) simulated in 6m 50s, estimated 3m 25s remaining.\n",
            "6.82762 s (68%) simulated in 7m 0s, estimated 3m 15s remaining.\n",
            "6.99045 s (69%) simulated in 7m 10s, estimated 3m 5s remaining.\n",
            "7.07469 s (70%) simulated in 7m 20s, estimated 3m 2s remaining.\n",
            "7.14112 s (71%) simulated in 7m 30s, estimated 3m 0s remaining.\n",
            "7.249205 s (72%) simulated in 7m 40s, estimated 2m 55s remaining.\n",
            "7.404795 s (74%) simulated in 7m 50s, estimated 2m 45s remaining.\n",
            "7.56705 s (75%) simulated in 8m 0s, estimated 2m 34s remaining.\n",
            "7.729475 s (77%) simulated in 8m 10s, estimated 2m 24s remaining.\n",
            "7.89124 s (78%) simulated in 8m 20s, estimated 2m 14s remaining.\n",
            "8.05277 s (80%) simulated in 8m 30s, estimated 2m 3s remaining.\n",
            "8.21478 s (82%) simulated in 8m 40s, estimated 1m 53s remaining.\n",
            "8.376715 s (83%) simulated in 8m 50s, estimated 1m 43s remaining.\n",
            "8.538675 s (85%) simulated in 9m 0s, estimated 1m 32s remaining.\n",
            "8.701435 s (87%) simulated in 9m 10s, estimated 1m 22s remaining.\n",
            "8.862655 s (88%) simulated in 9m 20s, estimated 1m 12s remaining.\n",
            "9.023925 s (90%) simulated in 9m 30s, estimated 1m 2s remaining.\n",
            "9.186345 s (91%) simulated in 9m 40s, estimated 51s remaining.\n",
            "9.34869 s (93%) simulated in 9m 50s, estimated 41s remaining.\n",
            "9.51113 s (95%) simulated in 10m 0s, estimated 31s remaining.\n",
            "9.67305 s (96%) simulated in 10m 10s, estimated 21s remaining.\n",
            "9.835275 s (98%) simulated in 10m 20s, estimated 10s remaining.\n",
            "9.99856 s (99%) simulated in 10m 30s, estimated < 1s remaining.\n",
            "10. s (100%) simulated in 10m 30s\n"
          ],
          "name": "stdout"
        }
      ]
    },
    {
      "cell_type": "code",
      "metadata": {
        "id": "okpEf0MTyRpK"
      },
      "source": [
        "def process_firings(M_in, M_ex, M_ex_targ, M_ex_not_targ, time):\n",
        "    global fraction\n",
        "    count_in = np.array(M_in.count)/(time/second)\n",
        "    count_ex = np.array(M_ex.count)/(time/second)\n",
        "    count_ex_targ = np.array(M_ex_targ.count)/(time/second)\n",
        "    count_ex_not_targ = np.array(M_ex_not_targ.count)/(time/second)\n",
        "    count_in_path = '/content/gdrive/MyDrive/Figures_Package/Ex_Target04/FR_in_f' + fraction + '.npy'\n",
        "    count_ex_path = '/content/gdrive/MyDrive/Figures_Package/Ex_Target04/FR_ex_f' + fraction + '.npy'\n",
        "    count_ex_targ_path = '/content/gdrive/MyDrive/Figures_Package/Ex_Target04/FR_ex_targ_f' + fraction + '.npy'\n",
        "    count_ex_not_targ_path = '/content/gdrive/MyDrive/Figures_Package/Ex_Target04/FR_ex_not_targ_f' + fraction + '.npy'\n",
        "    np.save(count_in_path, count_in)\n",
        "    np.save(count_ex_path, count_ex)\n",
        "    np.save(count_ex_targ_path, count_ex_targ)\n",
        "    np.save(count_ex_not_targ_path, count_ex_not_targ)"
      ],
      "execution_count": null,
      "outputs": []
    },
    {
      "cell_type": "code",
      "metadata": {
        "id": "JKRAcQFpu0KR"
      },
      "source": [
        "time=total_time\n",
        "fraction = '02'\n",
        "process_firings(M_in, M_ex, M_ex_targ, M_ex_not_targ, time)"
      ],
      "execution_count": null,
      "outputs": []
    },
    {
      "cell_type": "code",
      "metadata": {
        "id": "oHT38Rh3vhAi"
      },
      "source": [
        "FR_1 = np.load('/content/gdrive/MyDrive/Figures_Package/Session_Matrices/FR_ex_session1.npy')\n",
        "FR_2 = np.load('/content/gdrive/MyDrive/Figures_Package/Ex_Target04/FR_ex_f02.npy')"
      ],
      "execution_count": null,
      "outputs": []
    },
    {
      "cell_type": "code",
      "metadata": {
        "id": "L5WqnI7RBaxD"
      },
      "source": [
        "norm1 = np.linalg.norm(FR_1)\n",
        "norm2 = np.linalg.norm(FR_2)\n",
        "dot = np.dot(FR_1, FR_2)/(norm1*norm2)"
      ],
      "execution_count": null,
      "outputs": []
    },
    {
      "cell_type": "code",
      "metadata": {
        "colab": {
          "base_uri": "https://localhost:8080/"
        },
        "id": "S0DUt-39tnFV",
        "outputId": "08ae6b7c-b8d4-492c-8c5d-e23d4706bca0"
      },
      "source": [
        "dot"
      ],
      "execution_count": null,
      "outputs": [
        {
          "output_type": "execute_result",
          "data": {
            "text/plain": [
              "0.6302877749923685"
            ]
          },
          "metadata": {
            "tags": []
          },
          "execution_count": 17
        }
      ]
    }
  ]
}