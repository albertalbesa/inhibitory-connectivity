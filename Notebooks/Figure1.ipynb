{
  "nbformat": 4,
  "nbformat_minor": 0,
  "metadata": {
    "colab": {
      "name": "Figure1",
      "provenance": [],
      "collapsed_sections": [],
      "machine_shape": "hm"
    },
    "kernelspec": {
      "display_name": "Python 3",
      "name": "python3"
    },
    "language_info": {
      "name": "python"
    }
  },
  "cells": [
    {
      "cell_type": "code",
      "metadata": {
        "id": "UvhQeImBwNFU"
      },
      "source": [
        "%pip install brian2\n",
        "%pip install brian2tools\n",
        "%pip install scipy\n",
        "!pip install --upgrade scipy"
      ],
      "execution_count": null,
      "outputs": []
    },
    {
      "cell_type": "code",
      "metadata": {
        "colab": {
          "base_uri": "https://localhost:8080/"
        },
        "id": "Bnt5UvfQxKjd",
        "outputId": "624ba32d-debf-4adb-cd6d-c6f6a5ea4c87"
      },
      "source": [
        "from brian2 import *\n",
        "from brian2tools import *\n",
        "import numpy as np\n",
        "import pandas as pd\n",
        "from scipy import io\n",
        "from scipy import sparse\n",
        "from google.colab import drive\n",
        "drive.mount('/content/gdrive')\n",
        "import sys\n",
        "sys.path.append('/content/gdrive/MyDrive/Figures_Package')\n",
        "import seaborn as sns"
      ],
      "execution_count": null,
      "outputs": [
        {
          "output_type": "stream",
          "text": [
            "Mounted at /content/gdrive\n"
          ],
          "name": "stdout"
        }
      ]
    },
    {
      "cell_type": "code",
      "metadata": {
        "id": "Ijt0DV0gxVAZ"
      },
      "source": [
        "#this function takes as input the first and second momentum of the weights population given in supp table 1 \n",
        "#it transforms the average and var into the average and std of a lognormal distribution (formulas taken from wikipedia)\n",
        "\n",
        "def process_params(av, av2):\n",
        "    var = (av2 - av**2)\n",
        "    \n",
        "    mu = np.log(av**2/(av**2 + var)**(1/2))\n",
        "    sigma = np.log(1 + var/av**2)\n",
        "    \n",
        "    return mu, sigma"
      ],
      "execution_count": null,
      "outputs": []
    },
    {
      "cell_type": "code",
      "metadata": {
        "id": "v4W8V56m_PGy"
      },
      "source": [
        "#the weight distribution parameters are processed and stored in non-array variables to be passed to brian\n",
        "#in the future let's just do this computation and store the values in a file to read\n",
        "\n",
        "avs = np.array([0.37, 0.66, 0.44, 0.54])\n",
        "avs2 = np.array([0.26, 0.65, 0.49, 0.53])\n",
        "\n",
        "lognormal_mu = []\n",
        "lognormal_std = []\n",
        "\n",
        "for i in range(len(avs)):\n",
        "    mu, sigma = process_params(avs[i], avs2[i])\n",
        "    lognormal_mu.append(mu)\n",
        "    lognormal_std.append(sigma)\n",
        "    \n",
        "ee_mu = lognormal_mu[0]\n",
        "ee_std = lognormal_std[0]\n",
        "ie_mu = lognormal_mu[1]\n",
        "ie_std = lognormal_std[1]\n",
        "ei_mu = lognormal_mu[2]\n",
        "ei_std = lognormal_std[2]\n",
        "ii_mu = lognormal_mu[3]\n",
        "ii_std = lognormal_std[3]"
      ],
      "execution_count": null,
      "outputs": []
    },
    {
      "cell_type": "code",
      "metadata": {
        "id": "jaG21ZW5xam9"
      },
      "source": [
        "initial_v = np.load('/content/gdrive/MyDrive/Figures_Package/Networks/initial_voltage.npy')"
      ],
      "execution_count": null,
      "outputs": []
    },
    {
      "cell_type": "code",
      "metadata": {
        "id": "hmel82hfxqv0"
      },
      "source": [
        "#define network parameters\n",
        "\n",
        "#total size of the network\n",
        "N = 40000\n",
        "\n",
        "#threshold, reset and refractory parameters\n",
        "v_theta = 33*mV\n",
        "v_reset = 24.75*mV\n",
        "tau_ref = 1*ms\n",
        "v_0 = -1000*mV\n",
        "\n",
        "#indices that delimit inhibitory and excitatory populations 20/80\n",
        "first_inh = 0\n",
        "last_inh = int(0.2*N)\n",
        "first_exc = last_inh\n",
        "last_exc = N\n",
        "\n",
        "\n",
        "#these are additional parameters to play with resizing of weights (in paper would be 1)\n",
        "g_E = 1\n",
        "g_I = 1\n",
        "\n",
        "\n",
        "#External drive to each population\n",
        "\n",
        "H_in = 57.8*mV\n",
        "H_ex = 77.6*mV\n",
        "\n",
        "tau_in = np.log((H_in - v_reset)/(H_in - v_theta))*second;\n",
        "tau_ex = np.log((H_ex - v_reset)/(H_ex - v_theta))*second;\n",
        "\n",
        "\n",
        "#clear brian scope to reset any past variables\n",
        "start_scope()\n",
        "\n",
        "#define the model that each neuron will follow\n",
        "tau = 10*ms\n",
        "eqs = '''\n",
        "dv/dt = -(v - H_ext)/tau : volt (unless refractory)\n",
        "H_ext : volt\n",
        "'''\n",
        "\n",
        "#the original network is defined\n",
        "all_neurons = NeuronGroup(N, eqs, threshold = 'v>v_theta', reset = 'v=v_reset', refractory = tau_ref, method = 'exact')\n",
        "\n",
        "#to work with subpopulations bria-n uses slicing notation\n",
        "in_neurons = all_neurons[first_inh:last_inh]\n",
        "ex_neurons = all_neurons[first_exc:last_exc]\n",
        "targ_neurons = ex_neurons[:6400]\n",
        "\n",
        "all_neurons.v = initial_v*mV\n",
        "\n",
        "\n",
        "#define external drive according to supp table 1\n",
        "in_neurons.H_ext = H_in\n",
        "ex_neurons.H_ext = H_ex\n",
        "#in_neurons.H = '(24 + 9.1*rand())*mV'\n",
        "#ex_neurons.H = '(24 + 9.1*rand())*mV'\n",
        "\n",
        "\n",
        "#initialize the synaptic object for the different subpopulation pairs\n",
        "S_EE = Synapses(ex_neurons, ex_neurons, 'w : volt', on_pre ='v += w')\n",
        "S_IE = Synapses(ex_neurons, in_neurons, 'w : volt', on_pre ='v += w')\n",
        "S_EI = Synapses(in_neurons, ex_neurons,'w : volt', on_pre ='v -= w')\n",
        "S_II = Synapses(in_neurons, in_neurons, 'w : volt', on_pre ='v -= w')\n",
        "\n",
        "\n",
        "#connect them according to probabilities in supp table 1\n",
        "S_EE.connect(p = 0.2)\n",
        "S_IE.connect(p = 0.3)\n",
        "S_EI.connect(p = 0.4)\n",
        "S_II.connect(p = 0.4)\n",
        "\n",
        "\n",
        "\n",
        "#distribute them log-normal according to parameters obtained in processing cells (beginning of notebook)\n",
        "S_EE.w = 'g_E*exp(ee_mu + ee_std*randn())*mV'\n",
        "S_IE.w = 'g_E*exp(ie_mu + ie_std*randn())*mV'\n",
        "S_EI.w = 'g_I*exp(ei_mu + ei_std*randn())*mV'\n",
        "S_II.w = 'g_I*exp(ii_mu + ii_std*randn())*mV'\n",
        "\n",
        "\n",
        "\n",
        "#define monitoring variables. these can monitor the whole population or a desired subpopulation\n",
        "\n",
        "#monitors spiking events\n",
        "M_in = SpikeMonitor(in_neurons)\n",
        "M_ex = SpikeMonitor(ex_neurons)\n",
        "\n",
        "#V_in = StateMonitor(in_neurons, 'v', record = [1, 100, 1000])\n",
        "#V_ex = StateMonitor(ex_neurons, 'v', record = [1, 100, 1000])\n",
        "\n",
        "#monitors voltage with time\n",
        "#V = StateMonitor(all_neurons, 'v', record = [1, 100, 10000, 32000])"
      ],
      "execution_count": null,
      "outputs": []
    },
    {
      "cell_type": "code",
      "metadata": {
        "id": "zz16_KY-_4kj"
      },
      "source": [
        "defaultclock.dt = 0.005*ms\n",
        "total_time = 1000000*ms\n",
        "\n",
        "run(total_time, report = 'text')"
      ],
      "execution_count": null,
      "outputs": []
    },
    {
      "cell_type": "code",
      "metadata": {
        "id": "okpEf0MTyRpK"
      },
      "source": [
        "def process_firings(M_in, M_ex, time):\n",
        "    global session\n",
        "    count_in = np.array(M_in.count)/(time/second)\n",
        "    count_ex = np.array(M_ex.count)/(time/second)\n",
        "    count_in_path = 'FR_in_session' + str(session) + '.npy'\n",
        "    count_ex_path = 'FR_ex_session' + str(session) + '.npy'\n",
        "    np.save(count_in_path, count_in)\n",
        "    np.save(count_ex_path, count_ex)\n",
        "\n",
        "\n"
      ],
      "execution_count": null,
      "outputs": []
    },
    {
      "cell_type": "code",
      "metadata": {
        "id": "JKRAcQFpu0KR"
      },
      "source": [
        "time=total_time\n",
        "session = 1\n",
        "process_firings(M_in, M_ex, time)"
      ],
      "execution_count": null,
      "outputs": []
    },
    {
      "cell_type": "code",
      "metadata": {
        "id": "oHT38Rh3vhAi"
      },
      "source": [
        "FR_in = np.load('FR_in_session1.npy')"
      ],
      "execution_count": null,
      "outputs": []
    },
    {
      "cell_type": "code",
      "metadata": {
        "id": "zUNhv38MvjxZ"
      },
      "source": [
        "plt.hist(FR_in, bins = 'auto')\n",
        "plt.title(\"histogram\")\n",
        "plt.show()"
      ],
      "execution_count": null,
      "outputs": []
    },
    {
      "cell_type": "code",
      "metadata": {
        "id": "WUjbiC-qiTTB"
      },
      "source": [
        "sns.distplot(FR_in, hist=True, kde=True,\n",
        "bins=int(180/5), color = 'red',\n",
        "hist_kws={'edgecolor':'black'},\n",
        "kde_kws={'linewidth': 2})\n",
        "plt.xlim(xmin=0, xmax = 30)\n",
        "plt.xlabel('Firing Rate (Hz)')\n",
        "plt.ylabel('Probability Density ($Hz^-1$)')"
      ],
      "execution_count": null,
      "outputs": []
    },
    {
      "cell_type": "code",
      "metadata": {
        "id": "-Gc0uWLVwMQ0"
      },
      "source": [
        "FR_ex = np.load('FR_ex_session1.npy')"
      ],
      "execution_count": null,
      "outputs": []
    },
    {
      "cell_type": "code",
      "metadata": {
        "id": "Hu5RwbKSwJF2"
      },
      "source": [
        "plt.hist(FR_ex, bins = 'auto')\n",
        "plt.title(\"histogram\")\n",
        "plt.show()"
      ],
      "execution_count": null,
      "outputs": []
    },
    {
      "cell_type": "code",
      "metadata": {
        "id": "NYLSMxL744Wo"
      },
      "source": [
        "sns.distplot(FR_ex, hist=True, kde=True,\n",
        "bins=int(180/5), color = 'blue',\n",
        "hist_kws={'edgecolor':'black'},\n",
        "kde_kws={'linewidth': 2})\n",
        "plt.xlim(xmin=0, xmax = 20)\n",
        "plt.xlabel('Firing Rate (Hz)')\n",
        "plt.ylabel('Probability Density ($Hz^-1$)')"
      ],
      "execution_count": null,
      "outputs": []
    },
    {
      "cell_type": "code",
      "metadata": {
        "id": "cr21sjtQ8lFm"
      },
      "source": [
        "#pdf = norm.pdf(FR_ex , loc = 1.01 , scale = 1.01) \n",
        "sns.distplot(FR_in, hist=True, kde=True,\n",
        "             bins=np.logspace(np.log10(0.1), np.log10(100), 25), color = 'red', \n",
        "             hist_kws={'edgecolor':'black'},\n",
        "             kde_kws={'linewidth': 2})\n",
        "plt.xscale('log')"
      ],
      "execution_count": null,
      "outputs": []
    },
    {
      "cell_type": "code",
      "metadata": {
        "id": "dCNjcWRg9t1G"
      },
      "source": [
        "sns.distplot(FR_ex, hist=True, kde=True,\n",
        "             bins=np.logspace(np.log10(0.01), np.log10(10), 25), color = 'darkblue', \n",
        "             hist_kws={'edgecolor':'black'},\n",
        "             kde_kws={'linewidth': 2})\n",
        "plt.xscale('log')"
      ],
      "execution_count": null,
      "outputs": []
    },
    {
      "cell_type": "code",
      "metadata": {
        "id": "bziz32lO9xwE"
      },
      "source": [
        ""
      ],
      "execution_count": null,
      "outputs": []
    }
  ]
}