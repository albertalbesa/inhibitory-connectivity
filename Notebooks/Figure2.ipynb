{
  "nbformat": 4,
  "nbformat_minor": 0,
  "metadata": {
    "colab": {
      "name": "Figure2",
      "provenance": [],
      "collapsed_sections": [],
      "machine_shape": "hm"
    },
    "kernelspec": {
      "display_name": "Python 3",
      "name": "python3"
    },
    "language_info": {
      "name": "python"
    }
  },
  "cells": [
    {
      "cell_type": "code",
      "metadata": {
        "colab": {
          "base_uri": "https://localhost:8080/"
        },
        "id": "UvhQeImBwNFU",
        "outputId": "0b172db3-aa2d-43fa-c03e-0fe2ac3d4ad0"
      },
      "source": [
        "%pip install brian2\n",
        "%pip install brian2tools\n",
        "%pip install scipy\n",
        "!pip install --upgrade scipy"
      ],
      "execution_count": null,
      "outputs": [
        {
          "output_type": "stream",
          "text": [
            "Requirement already satisfied: brian2 in /usr/local/lib/python3.7/dist-packages (2.4.2)\n",
            "Requirement already satisfied: setuptools>=24.2 in /usr/local/lib/python3.7/dist-packages (from brian2) (56.1.0)\n",
            "Requirement already satisfied: cython>=0.29 in /usr/local/lib/python3.7/dist-packages (from brian2) (0.29.23)\n",
            "Requirement already satisfied: sympy>=1.2 in /usr/local/lib/python3.7/dist-packages (from brian2) (1.7.1)\n",
            "Requirement already satisfied: pyparsing in /usr/local/lib/python3.7/dist-packages (from brian2) (2.4.7)\n",
            "Requirement already satisfied: numpy>=1.15 in /usr/local/lib/python3.7/dist-packages (from brian2) (1.19.5)\n",
            "Requirement already satisfied: jinja2>=2.7 in /usr/local/lib/python3.7/dist-packages (from brian2) (2.11.3)\n",
            "Requirement already satisfied: mpmath>=0.19 in /usr/local/lib/python3.7/dist-packages (from sympy>=1.2->brian2) (1.2.1)\n",
            "Requirement already satisfied: MarkupSafe>=0.23 in /usr/local/lib/python3.7/dist-packages (from jinja2>=2.7->brian2) (1.1.1)\n",
            "Requirement already satisfied: brian2tools in /usr/local/lib/python3.7/dist-packages (0.2.1.1)\n",
            "Requirement already satisfied: setuptools-scm in /usr/local/lib/python3.7/dist-packages (from brian2tools) (6.0.1)\n",
            "Requirement already satisfied: pylems>=0.4.9 in /usr/local/lib/python3.7/dist-packages (from brian2tools) (0.5.2)\n",
            "Requirement already satisfied: setuptools in /usr/local/lib/python3.7/dist-packages (from brian2tools) (56.1.0)\n",
            "Requirement already satisfied: brian2>=2.0 in /usr/local/lib/python3.7/dist-packages (from brian2tools) (2.4.2)\n",
            "Requirement already satisfied: matplotlib>=1.3.1 in /usr/local/lib/python3.7/dist-packages (from brian2tools) (3.2.2)\n",
            "Requirement already satisfied: lxml in /usr/local/lib/python3.7/dist-packages (from pylems>=0.4.9->brian2tools) (4.2.6)\n",
            "Requirement already satisfied: sympy>=1.2 in /usr/local/lib/python3.7/dist-packages (from brian2>=2.0->brian2tools) (1.7.1)\n",
            "Requirement already satisfied: cython>=0.29 in /usr/local/lib/python3.7/dist-packages (from brian2>=2.0->brian2tools) (0.29.23)\n",
            "Requirement already satisfied: numpy>=1.15 in /usr/local/lib/python3.7/dist-packages (from brian2>=2.0->brian2tools) (1.19.5)\n",
            "Requirement already satisfied: pyparsing in /usr/local/lib/python3.7/dist-packages (from brian2>=2.0->brian2tools) (2.4.7)\n",
            "Requirement already satisfied: jinja2>=2.7 in /usr/local/lib/python3.7/dist-packages (from brian2>=2.0->brian2tools) (2.11.3)\n",
            "Requirement already satisfied: kiwisolver>=1.0.1 in /usr/local/lib/python3.7/dist-packages (from matplotlib>=1.3.1->brian2tools) (1.3.1)\n",
            "Requirement already satisfied: cycler>=0.10 in /usr/local/lib/python3.7/dist-packages (from matplotlib>=1.3.1->brian2tools) (0.10.0)\n",
            "Requirement already satisfied: python-dateutil>=2.1 in /usr/local/lib/python3.7/dist-packages (from matplotlib>=1.3.1->brian2tools) (2.8.1)\n",
            "Requirement already satisfied: mpmath>=0.19 in /usr/local/lib/python3.7/dist-packages (from sympy>=1.2->brian2>=2.0->brian2tools) (1.2.1)\n",
            "Requirement already satisfied: MarkupSafe>=0.23 in /usr/local/lib/python3.7/dist-packages (from jinja2>=2.7->brian2>=2.0->brian2tools) (1.1.1)\n",
            "Requirement already satisfied: six in /usr/local/lib/python3.7/dist-packages (from cycler>=0.10->matplotlib>=1.3.1->brian2tools) (1.15.0)\n",
            "Requirement already satisfied: scipy in /usr/local/lib/python3.7/dist-packages (1.6.3)\n",
            "Requirement already satisfied: numpy<1.23.0,>=1.16.5 in /usr/local/lib/python3.7/dist-packages (from scipy) (1.19.5)\n",
            "Requirement already up-to-date: scipy in /usr/local/lib/python3.7/dist-packages (1.6.3)\n",
            "Requirement already satisfied, skipping upgrade: numpy<1.23.0,>=1.16.5 in /usr/local/lib/python3.7/dist-packages (from scipy) (1.19.5)\n"
          ],
          "name": "stdout"
        }
      ]
    },
    {
      "cell_type": "code",
      "metadata": {
        "colab": {
          "base_uri": "https://localhost:8080/"
        },
        "id": "Bnt5UvfQxKjd",
        "outputId": "9c84e623-0cb8-4730-8d26-edcce1a4a95a"
      },
      "source": [
        "from brian2 import *\n",
        "from brian2tools import *\n",
        "import numpy as np\n",
        "import pandas as pd\n",
        "from scipy import io\n",
        "from scipy import sparse\n",
        "from google.colab import drive\n",
        "drive.mount('/content/gdrive')\n",
        "import sys\n",
        "sys.path.append('/content/gdrive/MyDrive/Figures_Package')\n",
        "import seaborn as sns"
      ],
      "execution_count": null,
      "outputs": [
        {
          "output_type": "stream",
          "text": [
            "Mounted at /content/gdrive\n"
          ],
          "name": "stdout"
        }
      ]
    },
    {
      "cell_type": "code",
      "metadata": {
        "id": "jaG21ZW5xam9"
      },
      "source": [
        "initial_v = np.load('/content/gdrive/MyDrive/Figures_Package/Networks/initial_voltage.npy')"
      ],
      "execution_count": null,
      "outputs": []
    },
    {
      "cell_type": "code",
      "metadata": {
        "id": "VoVrKmhqfxOh"
      },
      "source": [
        "w_EE = sparse.load_npz('/content/gdrive/MyDrive/Figures_Package/Session_Matrices/w_EE6.npz')\n",
        "w_IE = sparse.load_npz('/content/gdrive/MyDrive/Figures_Package/Session_Matrices/w_IE_sparse.npz')\n",
        "w_EI = sparse.load_npz('/content/gdrive/MyDrive/Figures_Package/Session_Matrices/w_EI_sparse.npz')\n",
        "w_II = sparse.load_npz('/content/gdrive/MyDrive/Figures_Package/Session_Matrices/w_II_sparse.npz')"
      ],
      "execution_count": null,
      "outputs": []
    },
    {
      "cell_type": "code",
      "metadata": {
        "id": "2kkAv33Zop-B"
      },
      "source": [
        "j_EE, i_EE, w_EE = sparse.find(w_EE)\n",
        "j_IE, i_IE, w_IE = sparse.find(w_IE)\n",
        "j_EI, i_EI, w_EI = sparse.find(w_EI)\n",
        "j_II, i_II, w_II = sparse.find(w_II)"
      ],
      "execution_count": null,
      "outputs": []
    },
    {
      "cell_type": "code",
      "metadata": {
        "id": "hmel82hfxqv0"
      },
      "source": [
        "#define network parameters\n",
        "\n",
        "#total size of the network\n",
        "N = 40000\n",
        "\n",
        "#threshold, reset and refractory parameters\n",
        "v_theta = 33*mV\n",
        "v_reset = 24.75*mV\n",
        "tau_ref = 1*ms\n",
        "v_0 = -1000*mV\n",
        "\n",
        "#indices that delimit inhibitory and excitatory populations 20/80\n",
        "first_inh = 0\n",
        "last_inh = int(0.2*N)\n",
        "first_exc = last_inh\n",
        "last_exc = N\n",
        "\n",
        "\n",
        "#these are additional parameters to play with resizing of weights (in paper would be 1)\n",
        "g_E = 1\n",
        "g_I = 1\n",
        "\n",
        "\n",
        "#External drive to each population\n",
        "\n",
        "H_in = 57.8*mV\n",
        "H_ex = 77.6*mV\n",
        "\n",
        "tau_in = np.log((H_in - v_reset)/(H_in - v_theta))*second;\n",
        "tau_ex = np.log((H_ex - v_reset)/(H_ex - v_theta))*second;\n",
        "\n",
        "\n",
        "#clear brian scope to reset any past variables\n",
        "start_scope()\n",
        "\n",
        "#define the model that each neuron will follow\n",
        "tau = 10*ms\n",
        "eqs = '''\n",
        "dv/dt = -(v - H_ext)/tau : volt (unless refractory)\n",
        "H_ext : volt\n",
        "'''\n",
        "\n",
        "#the original network is defined\n",
        "all_neurons = NeuronGroup(N, eqs, threshold = 'v>v_theta', reset = 'v=v_reset', refractory = tau_ref, method = 'exact')\n",
        "\n",
        "#to work with subpopulations bria-n uses slicing notation\n",
        "in_neurons = all_neurons[first_inh:last_inh]\n",
        "ex_neurons = all_neurons[first_exc:last_exc]\n",
        "#targ_neurons = ex_neurons[:6400]\n",
        "\n",
        "all_neurons.v = initial_v*mV\n",
        "\n",
        "#define external drive according to supp table 1\n",
        "in_neurons.H_ext = H_in\n",
        "ex_neurons.H_ext = H_ex\n",
        "\n",
        "\n",
        "#initialize the synaptic object for the different subpopulation pairs\n",
        "S_EE = Synapses(ex_neurons, ex_neurons, 'w : volt', on_pre ='v += w')\n",
        "S_IE = Synapses(ex_neurons, in_neurons, 'w : volt', on_pre ='v += w')\n",
        "S_EI = Synapses(in_neurons, ex_neurons,'w : volt', on_pre ='v -= w')\n",
        "S_II = Synapses(in_neurons, in_neurons, 'w : volt', on_pre ='v -= w')\n",
        "\n",
        "#initialize the synaptic object for the different subpopulation pairs\n",
        "#connect them according to probabilities in supp table 1\n",
        "S_EE.connect(i=i_EE, j=j_EE)\n",
        "S_IE.connect(i=i_IE, j=j_IE)\n",
        "S_EI.connect(i=i_EI, j=j_EI)\n",
        "S_II.connect(i=i_II, j=j_II)\n",
        "\n",
        "S_EE.w = w_EE*mV\n",
        "S_IE.w = w_IE*volt\n",
        "S_EI.w = w_EI*volt\n",
        "S_II.w = w_II*volt\n",
        "\n",
        "\n",
        "#monitors spiking events\n",
        "M_in = SpikeMonitor(in_neurons)\n",
        "M_ex = SpikeMonitor(ex_neurons)"
      ],
      "execution_count": null,
      "outputs": []
    },
    {
      "cell_type": "code",
      "metadata": {
        "id": "v5mpxCC2jQV4"
      },
      "source": [
        "#N_E = 32000\n",
        "#N_I = 8000\n",
        "#super_path = '/content/gdrive/MyDrive/Figures_Package/Session_Matrices/'\n",
        "\n",
        "#w_IE = zeros((N_I, N_E))\n",
        "#w_IE[S_IE.j, S_IE.i] = S_IE.w\n",
        "#w_IE = sparse.csc_matrix(w_IE)\n",
        "#path_IE = super_path + 'w_IE_sparse.npz'\n",
        "#sparse.save_npz(path_IE, w_IE)\n",
        "\n",
        "#w_EI = zeros((N_E, N_I))\n",
        "#w_EI[S_EI.j, S_EI.i] = S_EI.w\n",
        "#w_EI = sparse.csc_matrix(w_EI)\n",
        "#path_EI = super_path + 'w_EI_sparse.npz'\n",
        "#sparse.save_npz(path_EI, w_EI)\n",
        "#w_II = zeros((N_I, N_I))\n",
        "\n",
        "#w_II[S_II.j, S_II.i] = S_II.w\n",
        "#w_II = sparse.csc_matrix(w_II)\n",
        "#sparse.save_npz(path_II, w_II)\n",
        "#path_II = super_path + 'w_II_sparse.npz'"
      ],
      "execution_count": null,
      "outputs": []
    },
    {
      "cell_type": "code",
      "metadata": {
        "colab": {
          "base_uri": "https://localhost:8080/"
        },
        "id": "zz16_KY-_4kj",
        "outputId": "7c0c7533-35f5-43bd-f5b5-f6dc3cf21f62"
      },
      "source": [
        "defaultclock.dt = 0.005*ms\n",
        "total_time = 10000*ms\n",
        "\n",
        "run(total_time, report = 'text')"
      ],
      "execution_count": null,
      "outputs": [
        {
          "output_type": "stream",
          "text": [
            "Starting simulation at t=0. s for a duration of 10. s\n",
            "144.22 ms (1%) simulated in 10s, estimated 11m 23s remaining.\n",
            "295.965 ms (2%) simulated in 20s, estimated 10m 56s remaining.\n",
            "0.45381 s (4%) simulated in 30s, estimated 10m 31s remaining.\n",
            "0.62679 s (6%) simulated in 40s, estimated 9m 58s remaining.\n",
            "0.801695 s (8%) simulated in 50s, estimated 9m 34s remaining.\n",
            "0.97662 s (9%) simulated in 1m 0s, estimated 9m 14s remaining.\n",
            "1.14974 s (11%) simulated in 1m 10s, estimated 8m 59s remaining.\n",
            "1.326235 s (13%) simulated in 1m 20s, estimated 8m 43s remaining.\n",
            "1.50277 s (15%) simulated in 1m 30s, estimated 8m 29s remaining.\n",
            "1.680175 s (16%) simulated in 1m 40s, estimated 8m 15s remaining.\n",
            "1.859735 s (18%) simulated in 1m 50s, estimated 8m 1s remaining.\n",
            "2.039045 s (20%) simulated in 2m 0s, estimated 7m 49s remaining.\n",
            "2.217315 s (22%) simulated in 2m 10s, estimated 7m 36s remaining.\n",
            "2.396885 s (23%) simulated in 2m 20s, estimated 7m 24s remaining.\n",
            "2.57534 s (25%) simulated in 2m 30s, estimated 7m 12s remaining.\n",
            "2.7537 s (27%) simulated in 2m 40s, estimated 7m 1s remaining.\n",
            "2.932895 s (29%) simulated in 2m 50s, estimated 6m 50s remaining.\n",
            "3.11079 s (31%) simulated in 3m 0s, estimated 6m 39s remaining.\n",
            "3.289145 s (32%) simulated in 3m 10s, estimated 6m 28s remaining.\n",
            "3.468635 s (34%) simulated in 3m 20s, estimated 6m 17s remaining.\n",
            "3.64777 s (36%) simulated in 3m 30s, estimated 6m 6s remaining.\n",
            "3.82692 s (38%) simulated in 3m 40s, estimated 5m 55s remaining.\n",
            "4.00694 s (40%) simulated in 3m 50s, estimated 5m 44s remaining.\n",
            "4.18817 s (41%) simulated in 4m 0s, estimated 5m 33s remaining.\n",
            "4.369075 s (43%) simulated in 4m 10s, estimated 5m 22s remaining.\n",
            "4.54893 s (45%) simulated in 4m 20s, estimated 5m 12s remaining.\n",
            "4.7302 s (47%) simulated in 4m 30s, estimated 5m 1s remaining.\n",
            "4.91071 s (49%) simulated in 4m 40s, estimated 4m 50s remaining.\n",
            "5.091655 s (50%) simulated in 4m 50s, estimated 4m 40s remaining.\n",
            "5.271735 s (52%) simulated in 5m 0s, estimated 4m 29s remaining.\n",
            "5.450565 s (54%) simulated in 5m 10s, estimated 4m 19s remaining.\n",
            "5.62956 s (56%) simulated in 5m 20s, estimated 4m 8s remaining.\n",
            "5.80836 s (58%) simulated in 5m 30s, estimated 3m 58s remaining.\n",
            "5.98769 s (59%) simulated in 5m 40s, estimated 3m 48s remaining.\n",
            "6.16742 s (61%) simulated in 5m 50s, estimated 3m 38s remaining.\n",
            "6.34553 s (63%) simulated in 6m 0s, estimated 3m 27s remaining.\n",
            "6.5185 s (65%) simulated in 6m 10s, estimated 3m 18s remaining.\n",
            "6.697225 s (66%) simulated in 6m 20s, estimated 3m 7s remaining.\n",
            "6.87705 s (68%) simulated in 6m 30s, estimated 2m 57s remaining.\n",
            "7.05638 s (70%) simulated in 6m 40s, estimated 2m 47s remaining.\n",
            "7.23603 s (72%) simulated in 6m 50s, estimated 2m 37s remaining.\n",
            "7.415525 s (74%) simulated in 7m 0s, estimated 2m 26s remaining.\n",
            "7.595745 s (75%) simulated in 7m 10s, estimated 2m 16s remaining.\n",
            "7.77524 s (77%) simulated in 7m 20s, estimated 2m 6s remaining.\n",
            "7.955885 s (79%) simulated in 7m 30s, estimated 1m 56s remaining.\n",
            "8.13608 s (81%) simulated in 7m 40s, estimated 1m 45s remaining.\n",
            "8.31722 s (83%) simulated in 7m 50s, estimated 1m 35s remaining.\n",
            "8.49747 s (84%) simulated in 8m 0s, estimated 1m 25s remaining.\n",
            "8.67902 s (86%) simulated in 8m 10s, estimated 1m 15s remaining.\n",
            "8.859455 s (88%) simulated in 8m 20s, estimated 1m 4s remaining.\n",
            "9.040515 s (90%) simulated in 8m 30s, estimated 54s remaining.\n",
            "9.22064 s (92%) simulated in 8m 40s, estimated 44s remaining.\n",
            "9.40082 s (94%) simulated in 8m 50s, estimated 34s remaining.\n",
            "9.580925 s (95%) simulated in 9m 0s, estimated 24s remaining.\n",
            "9.76186 s (97%) simulated in 9m 10s, estimated 13s remaining.\n",
            "9.942935 s (99%) simulated in 9m 20s, estimated 3s remaining.\n",
            "10. s (100%) simulated in 9m 23s\n"
          ],
          "name": "stdout"
        }
      ]
    },
    {
      "cell_type": "code",
      "metadata": {
        "id": "okpEf0MTyRpK"
      },
      "source": [
        "def process_firings(M_in, M_ex, time):\n",
        "    global session\n",
        "    count_in = np.array(M_in.count)/(time/second)\n",
        "    count_ex = np.array(M_ex.count)/(time/second)\n",
        "    count_in_path = '/content/gdrive/MyDrive/Figures_Package/Session_Matrices/FR_in_session' + str(session) + '.npy'\n",
        "    count_ex_path = '/content/gdrive/MyDrive/Figures_Package/Session_Matrices/FR_ex_session' + str(session) + '.npy'\n",
        "    np.save(count_in_path, count_in)\n",
        "    np.save(count_ex_path, count_ex)"
      ],
      "execution_count": null,
      "outputs": []
    },
    {
      "cell_type": "code",
      "metadata": {
        "id": "JKRAcQFpu0KR"
      },
      "source": [
        "time=total_time\n",
        "session = 6\n",
        "process_firings(M_in, M_ex, time)"
      ],
      "execution_count": null,
      "outputs": []
    },
    {
      "cell_type": "code",
      "metadata": {
        "id": "oHT38Rh3vhAi"
      },
      "source": [
        "FR_ex_1 = np.load('/content/gdrive/MyDrive/Figures_Package/Session_Matrices/FR_ex_session1.npy')\n",
        "FR_in_1 = np.load('/content/gdrive/MyDrive/Figures_Package/Session_Matrices/FR_in_session1.npy')\n",
        "FR_ex_2 = np.load('/content/gdrive/MyDrive/Figures_Package/Session_Matrices/FR_ex_session2.npy')\n",
        "FR_in_2 = np.load('/content/gdrive/MyDrive/Figures_Package/Session_Matrices/FR_in_session2.npy')\n",
        "FR_ex_3 = np.load('/content/gdrive/MyDrive/Figures_Package/Session_Matrices/FR_ex_session3.npy')\n",
        "FR_in_3 = np.load('/content/gdrive/MyDrive/Figures_Package/Session_Matrices/FR_in_session3.npy')\n",
        "FR_ex_4 = np.load('/content/gdrive/MyDrive/Figures_Package/Session_Matrices/FR_ex_session4.npy')\n",
        "FR_in_4 = np.load('/content/gdrive/MyDrive/Figures_Package/Session_Matrices/FR_in_session4.npy')\n",
        "FR_ex_5 = np.load('/content/gdrive/MyDrive/Figures_Package/Session_Matrices/FR_ex_session5.npy')\n",
        "FR_in_5 = np.load('/content/gdrive/MyDrive/Figures_Package/Session_Matrices/FR_in_session5.npy')\n",
        "FR_ex_6 = np.load('/content/gdrive/MyDrive/Figures_Package/Session_Matrices/FR_ex_session6.npy')\n",
        "FR_in_6 = np.load('/content/gdrive/MyDrive/Figures_Package/Session_Matrices/FR_in_session6.npy')"
      ],
      "execution_count": null,
      "outputs": []
    },
    {
      "cell_type": "code",
      "metadata": {
        "id": "OrZbD6f-WBBE"
      },
      "source": [
        "N_E = 32000\n",
        "N_I = 8000\n",
        "FR_in_1_plot = FR_in_1[1:20]\n",
        "FR_ex_1_plot = FR_ex_1[1:20]\n",
        "FR_in_2_plot = FR_in_2[1:20]\n",
        "FR_ex_2_plot = FR_ex_2[1:20]\n",
        "FR_in_3_plot = FR_in_3[1:20]\n",
        "FR_ex_3_plot = FR_ex_3[1:20]\n",
        "FR_in_4_plot = FR_in_4[1:20]\n",
        "FR_ex_4_plot = FR_ex_4[1:20]\n",
        "FR_in_5_plot = FR_in_5[1:20]\n",
        "FR_ex_5_plot = FR_ex_5[1:20]\n",
        "FR_in_6_plot = FR_in_6[1:20]\n",
        "FR_ex_6_plot = FR_ex_6[1:20]"
      ],
      "execution_count": null,
      "outputs": []
    },
    {
      "cell_type": "code",
      "metadata": {
        "id": "C04F5eZuo_j-",
        "colab": {
          "base_uri": "https://localhost:8080/",
          "height": 295
        },
        "outputId": "c864ea5c-76bf-4ba6-8e1a-68eccb9e3389"
      },
      "source": [
        "import matplotlib.pyplot as pllt\n",
        "x_pos = np.arange(len(FR_ex_1_plot))\n",
        "plt.barh(x_pos,FR_ex_1_plot, align='center')\n",
        "ylabel('neuron index')\n",
        "xlabel('firing rate')\n",
        "title('Excitatory')\n",
        "\n",
        "# Turn off tick labels\n",
        "plt.yticks(x_pos, \" \")\n",
        "plt.show()"
      ],
      "execution_count": null,
      "outputs": [
        {
          "output_type": "display_data",
          "data": {
            "image/png": "[encoded data removed]",
            "text/plain": [
              "<Figure size 432x288 with 1 Axes>"
            ]
          },
          "metadata": {
            "tags": [],
            "needs_background": "light"
          }
        }
      ]
    },
    {
      "cell_type": "code",
      "metadata": {
        "id": "c9_6nAB8FS-f",
        "colab": {
          "base_uri": "https://localhost:8080/",
          "height": 314
        },
        "outputId": "7ffadb19-2429-43e9-c55e-db2d888b56c8"
      },
      "source": [
        "import matplotlib.pyplot as plt\n",
        "import numpy as np\n",
        "import pandas as pd\n",
        "import seaborn as sns\n",
        "\n",
        "fig, (ax1,ax2,ax3,ax4,ax5,ax6,ax7,ax8,ax9,ax10,ax11,ax12) = plt.subplots(ncols=12,figsize=(20,5),sharey=True)\n",
        "\n",
        "x_pos1 = np.arange(len(FR_ex_1_plot))\n",
        "ax1.barh(x_pos1, FR_ex_1_plot, color = \"blue\")\n",
        "ax1.set_xticks(np.arange(0, 5, 2))\n",
        "ax1.set_yticks(np.arange(0, 21, 20))\n",
        "ax1.spines[\"top\"].set_visible(False)\n",
        "ax1.spines[\"right\"].set_visible(False)\n",
        "#ax1.set_xticklabels(x_pos1, fontsize=8)\n",
        "ax1.tick_params(axis='x', labelsize=15)\n",
        "ax1.tick_params(axis='y', labelsize=15)\n",
        "\n",
        "x_pos2 = np.arange(len(FR_in_1_plot))\n",
        "ax2.barh(x_pos2, FR_in_1_plot, color = \"r\")\n",
        "ax2.set_xticks(np.arange(0, 20, 10))\n",
        "ax2.spines[\"top\"].set_visible(False)\n",
        "ax2.spines[\"right\"].set_visible(False)\n",
        "ax2.tick_params(axis='x', labelsize=15)\n",
        "\n",
        "x_pos3 = np.arange(len(FR_ex_2_plot))\n",
        "ax3.barh(x_pos3, FR_ex_2_plot, color = \"b\")\n",
        "ax3.set_xticks(np.arange(0, 5, 2))\n",
        "ax3.spines[\"top\"].set_visible(False)\n",
        "ax3.spines[\"right\"].set_visible(False)\n",
        "ax3.tick_params(axis='x', labelsize=15)\n",
        "\n",
        "x_pos4 = np.arange(len(FR_in_2_plot))\n",
        "ax4.barh(x_pos4, FR_in_2_plot, color = \"r\")\n",
        "ax4.set_xticks(np.arange(0, 20, 10))\n",
        "ax4.spines[\"top\"].set_visible(False)\n",
        "ax4.spines[\"right\"].set_visible(False)\n",
        "ax4.tick_params(axis='x', labelsize=15)\n",
        "\n",
        "x_pos5 = np.arange(len(FR_ex_3_plot))\n",
        "ax5.barh(x_pos5, FR_ex_3_plot, color = \"b\")\n",
        "ax5.set_xticks(np.arange(0, 5, 2))\n",
        "ax5.spines[\"top\"].set_visible(False)\n",
        "ax5.spines[\"right\"].set_visible(False)\n",
        "ax5.tick_params(axis='x', labelsize=15)\n",
        "\n",
        "x_pos6 = np.arange(len(FR_in_3_plot))\n",
        "ax6.barh(x_pos6, FR_in_3_plot, color = \"r\")\n",
        "ax6.set_xticks(np.arange(0, 20, 10))\n",
        "ax6.spines[\"top\"].set_visible(False)\n",
        "ax6.spines[\"right\"].set_visible(False)\n",
        "ax6.tick_params(axis='x', labelsize=15)\n",
        "\n",
        "x_pos7 = np.arange(len(FR_ex_4_plot))\n",
        "ax7.barh(x_pos7, FR_ex_4_plot, color = \"b\")\n",
        "ax7.set_xticks(np.arange(0, 5, 2))\n",
        "ax7.spines[\"top\"].set_visible(False)\n",
        "ax7.spines[\"right\"].set_visible(False)\n",
        "ax7.tick_params(axis='x', labelsize=15)\n",
        "\n",
        "x_pos8 = np.arange(len(FR_in_4_plot))\n",
        "ax8.barh(x_pos8, FR_in_4_plot, color = \"r\")\n",
        "ax8.set_xticks(np.arange(0, 20, 10))\n",
        "ax8.spines[\"top\"].set_visible(False)\n",
        "ax8.spines[\"right\"].set_visible(False)\n",
        "ax8.tick_params(axis='x', labelsize=15)\n",
        "\n",
        "x_pos9 = np.arange(len(FR_ex_5_plot))\n",
        "ax9.barh(x_pos9, FR_ex_5_plot, color = \"b\")\n",
        "ax9.set_xticks(np.arange(0, 5, 2))\n",
        "ax9.spines[\"top\"].set_visible(False)\n",
        "ax9.spines[\"right\"].set_visible(False)\n",
        "ax9.tick_params(axis='x', labelsize=15)\n",
        "\n",
        "x_pos10 = np.arange(len(FR_in_5_plot))\n",
        "ax10.barh(x_pos10, FR_in_5_plot, color = \"r\")\n",
        "ax10.set_xticks(np.arange(0, 20, 10))\n",
        "ax10.spines[\"top\"].set_visible(False)\n",
        "ax10.spines[\"right\"].set_visible(False)\n",
        "ax10.tick_params(axis='x', labelsize=15)\n",
        "\n",
        "x_pos11 = np.arange(len(FR_ex_6_plot))\n",
        "ax11.barh(x_pos11, FR_ex_6_plot, color = \"b\")\n",
        "ax11.set_xticks(np.arange(0, 5, 2))\n",
        "ax11.spines[\"top\"].set_visible(False)\n",
        "ax11.spines[\"right\"].set_visible(False)\n",
        "ax11.tick_params(axis='x', labelsize=15)\n",
        "\n",
        "x_pos12 = np.arange(len(FR_in_6_plot))\n",
        "ax12.barh(x_pos12, FR_in_6_plot, color = \"r\")\n",
        "ax12.set_xticks(np.arange(0, 20, 10))\n",
        "ax12.spines[\"top\"].set_visible(False)\n",
        "ax12.spines[\"right\"].set_visible(False)\n",
        "ax12.tick_params(axis='x', labelsize=15)\n",
        "\n",
        "plt.xlabel('Firing rate', fontsize=20)\n",
        "plt.ylim(ymin=-1, ymax = 20)\n",
        "plt.savefig('/content/gdrive/MyDrive/Figures_Package/Figures/figure2B_bottom_NEW.png',\n",
        "            dpi=300, bbox_inches = 'tight')"
      ],
      "execution_count": null,
      "outputs": [
        {
          "output_type": "display_data",
          "data": {
            "image/png": "[encoded data removed]",
            "text/plain": [
              "<Figure size 1440x360 with 12 Axes>"
            ]
          },
          "metadata": {
            "tags": [],
            "needs_background": "light"
          }
        }
      ]
    },
    {
      "cell_type": "code",
      "metadata": {
        "id": "nbLqYIwR6tr5"
      },
      "source": [
        ""
      ],
      "execution_count": null,
      "outputs": []
    },
    {
      "cell_type": "code",
      "metadata": {
        "id": "x3zfvyOzBV_a",
        "colab": {
          "base_uri": "https://localhost:8080/",
          "height": 430
        },
        "outputId": "682ce85a-10f8-4dc0-b6f3-4457e761a923"
      },
      "source": [
        "sns.distplot(FR_ex_2, hist=True, kde=True,\n",
        "bins=50, color = 'blue',\n",
        "hist_kws={'edgecolor':'black'},\n",
        "kde_kws={'linewidth': 0})\n",
        "plt.xlim(xmin=0, xmax = 10)"
      ],
      "execution_count": null,
      "outputs": [
        {
          "output_type": "stream",
          "text": [
            "WARNING    /usr/local/lib/python3.7/dist-packages/seaborn/distributions.py:2557: FutureWarning: `distplot` is a deprecated function and will be removed in a future version. Please adapt your code to use either `displot` (a figure-level function with similar flexibility) or `histplot` (an axes-level function for histograms).\n",
            "  warnings.warn(msg, FutureWarning)\n",
            " [py.warnings]\n",
            "WARNING:py.warnings:/usr/local/lib/python3.7/dist-packages/seaborn/distributions.py:2557: FutureWarning: `distplot` is a deprecated function and will be removed in a future version. Please adapt your code to use either `displot` (a figure-level function with similar flexibility) or `histplot` (an axes-level function for histograms).\n",
            "  warnings.warn(msg, FutureWarning)\n",
            "\n",
            "INFO:numexpr.utils:NumExpr defaulting to 4 threads.\n"
          ],
          "name": "stderr"
        },
        {
          "output_type": "execute_result",
          "data": {
            "text/plain": [
              "(0.0, 10.0)"
            ]
          },
          "metadata": {
            "tags": []
          },
          "execution_count": 15
        },
        {
          "output_type": "display_data",
          "data": {
            "image/png": "[encoded data removed]",
            "text/plain": [
              "<Figure size 432x288 with 1 Axes>"
            ]
          },
          "metadata": {
            "tags": [],
            "needs_background": "light"
          }
        }
      ]
    },
    {
      "cell_type": "code",
      "metadata": {
        "id": "FQMaAVduKVZE",
        "colab": {
          "base_uri": "https://localhost:8080/",
          "height": 269
        },
        "outputId": "bc825d5a-203b-4df9-e279-6bd28335b41e"
      },
      "source": [
        "import matplotlib.pyplot as plt\n",
        "import numpy as np\n",
        "import pandas as pd\n",
        "import seaborn as sns\n",
        "\n",
        "fig, (ax1,ax2,ax3,ax4,ax5,ax6,ax7,ax8,ax9,ax10,ax11,ax12) = plt.subplots(ncols=12,sharey=True, figsize=(20,2))\n",
        "fig.subplots_adjust(wspace=0.1)\n",
        "\n",
        "sns.distplot(FR_ex_1, ax=ax1, bins='auto', hist=True, kde=False, color = \"b\")\n",
        "ax1.spines[\"top\"].set_visible(False)\n",
        "ax1.spines[\"right\"].set_visible(False)\n",
        "ax1.spines[\"bottom\"].set_visible(False)\n",
        "ax1.spines[\"left\"].set_visible(False)\n",
        "ax1.axis('off')\n",
        "\n",
        "sns.distplot(FR_in_1, ax=ax2, bins='auto', hist=True, kde=False, color = \"r\")\n",
        "ax2.spines[\"top\"].set_visible(False)\n",
        "ax2.spines[\"right\"].set_visible(False)\n",
        "ax2.spines[\"bottom\"].set_visible(False)\n",
        "ax2.spines[\"left\"].set_visible(False)\n",
        "ax2.axis('off')\n",
        "\n",
        "sns.distplot(FR_ex_2, ax=ax3, bins='auto', hist=True, kde=False, color = \"b\")\n",
        "ax3.spines[\"top\"].set_visible(False)\n",
        "ax3.spines[\"right\"].set_visible(False)\n",
        "ax3.spines[\"bottom\"].set_visible(False)\n",
        "ax3.spines[\"left\"].set_visible(False)\n",
        "ax3.axis('off')\n",
        "\n",
        "sns.distplot(FR_in_2, ax=ax4, bins='auto', hist=True, kde=False, color = \"r\")\n",
        "ax4.spines[\"top\"].set_visible(False)\n",
        "ax4.spines[\"right\"].set_visible(False)\n",
        "ax4.spines[\"bottom\"].set_visible(False)\n",
        "ax4.spines[\"left\"].set_visible(False)\n",
        "ax4.axis('off')\n",
        "\n",
        "sns.distplot(FR_ex_3, ax=ax5, bins='auto', hist=True, kde=False, color = \"b\")\n",
        "ax5.spines[\"top\"].set_visible(False)\n",
        "ax5.spines[\"right\"].set_visible(False)\n",
        "ax5.spines[\"bottom\"].set_visible(False)\n",
        "ax5.spines[\"left\"].set_visible(False)\n",
        "ax5.axis('off')\n",
        "\n",
        "sns.distplot(FR_in_3, ax=ax6, bins='auto', hist=True, kde=False, color = \"r\")\n",
        "ax6.spines[\"top\"].set_visible(False)\n",
        "ax6.spines[\"right\"].set_visible(False)\n",
        "ax6.spines[\"bottom\"].set_visible(False)\n",
        "ax6.spines[\"left\"].set_visible(False)\n",
        "ax6.axis('off')\n",
        "\n",
        "sns.distplot(FR_ex_4, ax=ax7, bins='auto', hist=True, kde=False, color = \"b\")\n",
        "ax7.spines[\"top\"].set_visible(False)\n",
        "ax7.spines[\"right\"].set_visible(False)\n",
        "ax7.spines[\"bottom\"].set_visible(False)\n",
        "ax7.spines[\"left\"].set_visible(False)\n",
        "ax7.axis('off')\n",
        "\n",
        "sns.distplot(FR_in_4, ax=ax8, bins='auto', hist=True, kde=False, color = \"r\")\n",
        "ax8.spines[\"top\"].set_visible(False)\n",
        "ax8.spines[\"right\"].set_visible(False)\n",
        "ax8.spines[\"bottom\"].set_visible(False)\n",
        "ax8.spines[\"left\"].set_visible(False)\n",
        "ax8.axis('off')\n",
        "\n",
        "sns.distplot(FR_ex_5, ax=ax9, bins='auto', hist=True, kde=False, color = \"b\")\n",
        "ax9.spines[\"top\"].set_visible(False)\n",
        "ax9.spines[\"right\"].set_visible(False)\n",
        "ax9.spines[\"bottom\"].set_visible(False)\n",
        "ax9.spines[\"left\"].set_visible(False)\n",
        "ax9.axis('off')\n",
        "\n",
        "sns.distplot(FR_in_5, ax=ax10, bins='auto', hist=True, kde=False, color = \"r\")\n",
        "ax10.spines[\"top\"].set_visible(False)\n",
        "ax10.spines[\"right\"].set_visible(False)\n",
        "ax10.spines[\"bottom\"].set_visible(False)\n",
        "ax10.spines[\"left\"].set_visible(False)\n",
        "ax10.axis('off')\n",
        "\n",
        "sns.distplot(FR_ex_6, ax=ax11, bins='auto', hist=True, kde=False, color = \"b\")\n",
        "ax11.spines[\"top\"].set_visible(False)\n",
        "ax11.spines[\"right\"].set_visible(False)\n",
        "ax11.spines[\"bottom\"].set_visible(False)\n",
        "ax11.spines[\"left\"].set_visible(False)\n",
        "ax11.axis('off')\n",
        "\n",
        "sns.distplot(FR_in_6, ax=ax12, bins='auto', hist=True, kde=False, color = \"r\")\n",
        "ax12.spines[\"top\"].set_visible(False)\n",
        "ax12.spines[\"right\"].set_visible(False)\n",
        "ax12.spines[\"bottom\"].set_visible(False)\n",
        "ax12.spines[\"left\"].set_visible(False)\n",
        "ax12.axis('off')\n",
        "\n",
        "plt.xlim(xmin=0, xmax = 20)\n",
        "plt.ylim(ymin=0, ymax = 2000)\n",
        "\n",
        "plt.savefig('/content/gdrive/MyDrive/Figures_Package/Figures/figure2B_top_largeymax.png',\n",
        "            dpi=300, bbox_inches = 'tight')"
      ],
      "execution_count": null,
      "outputs": [
        {
          "output_type": "stream",
          "text": [
            "WARNING    /usr/local/lib/python3.7/dist-packages/seaborn/distributions.py:2557: FutureWarning: `distplot` is a deprecated function and will be removed in a future version. Please adapt your code to use either `displot` (a figure-level function with similar flexibility) or `histplot` (an axes-level function for histograms).\n",
            "  warnings.warn(msg, FutureWarning)\n",
            " [py.warnings]\n",
            "WARNING:py.warnings:/usr/local/lib/python3.7/dist-packages/seaborn/distributions.py:2557: FutureWarning: `distplot` is a deprecated function and will be removed in a future version. Please adapt your code to use either `displot` (a figure-level function with similar flexibility) or `histplot` (an axes-level function for histograms).\n",
            "  warnings.warn(msg, FutureWarning)\n",
            "\n"
          ],
          "name": "stderr"
        },
        {
          "output_type": "display_data",
          "data": {
            "image/png": "[encoded data removed]",
            "text/plain": [
              "<Figure size 1440x144 with 12 Axes>"
            ]
          },
          "metadata": {
            "tags": [],
            "needs_background": "light"
          }
        }
      ]
    },
    {
      "cell_type": "code",
      "metadata": {
        "id": "lYw3Kg5EF1Fj",
        "colab": {
          "base_uri": "https://localhost:8080/",
          "height": 207
        },
        "outputId": "c06ffdcd-b5c8-4958-b8b5-8790e946dabb"
      },
      "source": [
        "norm1 = np.linalg.norm(FR_1)\n",
        "norm2 = np.linalg.norm(FR_2)\n",
        "dot = np.dot(FR_1, FR_2)/(norm1*norm2)"
      ],
      "execution_count": null,
      "outputs": [
        {
          "output_type": "error",
          "ename": "NameError",
          "evalue": "ignored",
          "traceback": [
            "\u001b[0;31m---------------------------------------------------------------------------\u001b[0m",
            "\u001b[0;31mNameError\u001b[0m                                 Traceback (most recent call last)",
            "\u001b[0;32m<ipython-input-17-88d94a3e0fdc>\u001b[0m in \u001b[0;36m<module>\u001b[0;34m()\u001b[0m\n\u001b[0;32m----> 1\u001b[0;31m \u001b[0mnorm1\u001b[0m \u001b[0;34m=\u001b[0m \u001b[0mnp\u001b[0m\u001b[0;34m.\u001b[0m\u001b[0mlinalg\u001b[0m\u001b[0;34m.\u001b[0m\u001b[0mnorm\u001b[0m\u001b[0;34m(\u001b[0m\u001b[0mFR_1\u001b[0m\u001b[0;34m)\u001b[0m\u001b[0;34m\u001b[0m\u001b[0;34m\u001b[0m\u001b[0m\n\u001b[0m\u001b[1;32m      2\u001b[0m \u001b[0mnorm2\u001b[0m \u001b[0;34m=\u001b[0m \u001b[0mnp\u001b[0m\u001b[0;34m.\u001b[0m\u001b[0mlinalg\u001b[0m\u001b[0;34m.\u001b[0m\u001b[0mnorm\u001b[0m\u001b[0;34m(\u001b[0m\u001b[0mFR_2\u001b[0m\u001b[0;34m)\u001b[0m\u001b[0;34m\u001b[0m\u001b[0;34m\u001b[0m\u001b[0m\n\u001b[1;32m      3\u001b[0m \u001b[0mdot\u001b[0m \u001b[0;34m=\u001b[0m \u001b[0mnp\u001b[0m\u001b[0;34m.\u001b[0m\u001b[0mdot\u001b[0m\u001b[0;34m(\u001b[0m\u001b[0mFR_1\u001b[0m\u001b[0;34m,\u001b[0m \u001b[0mFR_2\u001b[0m\u001b[0;34m)\u001b[0m\u001b[0;34m/\u001b[0m\u001b[0;34m(\u001b[0m\u001b[0mnorm1\u001b[0m\u001b[0;34m*\u001b[0m\u001b[0mnorm2\u001b[0m\u001b[0;34m)\u001b[0m\u001b[0;34m\u001b[0m\u001b[0;34m\u001b[0m\u001b[0m\n",
            "\u001b[0;31mNameError\u001b[0m: name 'FR_1' is not defined"
          ]
        }
      ]
    },
    {
      "cell_type": "code",
      "metadata": {
        "id": "wa5cfCobCc70"
      },
      "source": [
        "dot"
      ],
      "execution_count": null,
      "outputs": []
    },
    {
      "cell_type": "code",
      "metadata": {
        "id": "9tF5ScxPli9f"
      },
      "source": [
        "w_EE1 = sparse.load_npz('/content/gdrive/MyDrive/Figures_Package/Session_Matrices/w_EE1.npz')\n",
        "j_EE, i_EE, w_EE1val = sparse.find(w_EE1)\n",
        "w_EE1 = np.array(w_EE1).flatten()"
      ],
      "execution_count": null,
      "outputs": []
    },
    {
      "cell_type": "code",
      "metadata": {
        "id": "AU89qN5gmpQY"
      },
      "source": [
        "w_EE2 = sparse.load_npz('/content/gdrive/MyDrive/Figures_Package/Session_Matrices/w_EE2.npz')\n",
        "j_EE, i_EE, w_EE2val = sparse.find(w_EE2)\n",
        "w_EE2 = np.array(w_EE2).flatten()"
      ],
      "execution_count": null,
      "outputs": []
    },
    {
      "cell_type": "code",
      "metadata": {
        "id": "F9OKFaOfm16W"
      },
      "source": [
        "norm1 = np.linalg.norm(w_EE1val)\n",
        "norm2 = np.linalg.norm(w_EE2val)\n",
        "dot = np.dot(w_EE1, w_EE2)/(norm1*norm2)"
      ],
      "execution_count": null,
      "outputs": []
    },
    {
      "cell_type": "code",
      "metadata": {
        "id": "36ZOTnJBnFWR"
      },
      "source": [
        "dot"
      ],
      "execution_count": null,
      "outputs": []
    },
    {
      "cell_type": "markdown",
      "metadata": {
        "id": "DxLFcDQH9Fl3"
      },
      "source": [
        ""
      ]
    },
    {
      "cell_type": "code",
      "metadata": {
        "id": "zUNhv38MvjxZ"
      },
      "source": [
        "plt.hist(FR_ex, bins = 'auto')\n",
        "plt.title(\"histogram\")\n",
        "plt.show()"
      ],
      "execution_count": null,
      "outputs": []
    },
    {
      "cell_type": "code",
      "metadata": {
        "id": "WUjbiC-qiTTB"
      },
      "source": [
        "sns.distplot(FR_in, hist=True, kde=True,\n",
        "bins=int(180/5), color = 'red',\n",
        "hist_kws={'edgecolor':'black'},\n",
        "kde_kws={'linewidth': 2})\n",
        "plt.xlim(xmin=0, xmax = 30)\n",
        "plt.xlabel('Firing Rate (Hz)')\n",
        "plt.ylabel('Probability Density ($Hz^-1$)')"
      ],
      "execution_count": null,
      "outputs": []
    },
    {
      "cell_type": "code",
      "metadata": {
        "id": "-Gc0uWLVwMQ0"
      },
      "source": [
        "FR_ex = np.load('FR_ex_session1.npy')"
      ],
      "execution_count": null,
      "outputs": []
    },
    {
      "cell_type": "code",
      "metadata": {
        "id": "Hu5RwbKSwJF2"
      },
      "source": [
        "plt.hist(FR_ex, bins = 'auto')\n",
        "plt.title(\"histogram\")\n",
        "plt.show()"
      ],
      "execution_count": null,
      "outputs": []
    },
    {
      "cell_type": "code",
      "metadata": {
        "id": "NYLSMxL744Wo"
      },
      "source": [
        "sns.distplot(FR_ex, hist=True, kde=True,\n",
        "bins=int(180/5), color = 'blue',\n",
        "hist_kws={'edgecolor':'black'},\n",
        "kde_kws={'linewidth': 2})\n",
        "plt.xlim(xmin=0, xmax = 20)\n",
        "plt.xlabel('Firing Rate (Hz)')\n",
        "plt.ylabel('Probability Density ($Hz^-1$)')"
      ],
      "execution_count": null,
      "outputs": []
    },
    {
      "cell_type": "code",
      "metadata": {
        "id": "cr21sjtQ8lFm"
      },
      "source": [
        "#pdf = norm.pdf(FR_ex , loc = 1.01 , scale = 1.01) \n",
        "sns.distplot(FR_in, hist=True, kde=True,\n",
        "             bins=np.logspace(np.log10(0.1), np.log10(100), 25), color = 'darkblue', \n",
        "             hist_kws={'edgecolor':'black'},\n",
        "             kde_kws={'linewidth': 2})\n",
        "plt.xscale('log')"
      ],
      "execution_count": null,
      "outputs": []
    },
    {
      "cell_type": "code",
      "metadata": {
        "id": "dCNjcWRg9t1G"
      },
      "source": [
        "sns.distplot(FR_ex, hist=True, kde=True,\n",
        "             bins=np.logspace(np.log10(0.01), np.log10(10), 20), color = 'darkblue', \n",
        "             hist_kws={'edgecolor':'black'},\n",
        "             kde_kws={'linewidth': 2})\n",
        "plt.xscale('log')"
      ],
      "execution_count": null,
      "outputs": []
    },
    {
      "cell_type": "code",
      "metadata": {
        "id": "bziz32lO9xwE"
      },
      "source": [
        "#figure 2A\n",
        "i_plot = [1, 21, 256, 1354, 5326, 9878, 10951, 17891, 21362, 26792]\n",
        "j_plot = [1, 12, 652, 4531, 6325, 8789, 15901, 19871, 26312, 29762]"
      ],
      "execution_count": null,
      "outputs": []
    },
    {
      "cell_type": "code",
      "metadata": {
        "id": "4FG4KAWA65MK"
      },
      "source": [
        "session = 1\n",
        "w_EE = sparse.load_npz('/content/gdrive/MyDrive/Figures_Package/Session_Matrices/w_EE' + str(session) + '.npz')\n",
        "i, j , w_EE = sparse.find(w_EE)\n",
        "aux = np.zeros((30000, 30000))\n",
        "aux[i, j] = w_EE\n",
        "w_EE1 = aux[np.meshgrid(i_plot, j_plot)]\n",
        "sample_filename = '/content/gdrive/MyDrive/Figures_Package/Session_Matrices/w_EE' + str(1) + '_sample.npy'\n",
        "np.save(sample_filename, w_EE1)"
      ],
      "execution_count": null,
      "outputs": []
    },
    {
      "cell_type": "code",
      "metadata": {
        "id": "TpVWoh1pBJf5"
      },
      "source": [
        "w_EE1 = np.load(sample_filename)"
      ],
      "execution_count": null,
      "outputs": []
    },
    {
      "cell_type": "code",
      "metadata": {
        "id": "uhXpXBRXPEQk"
      },
      "source": [
        "import numpy as np\n",
        "import seaborn as sns\n",
        "import matplotlib.pylab as plt\n",
        "\n",
        "ax = sns.heatmap(w_EE1)\n",
        "plt.axis('equal')\n",
        "plt.show()"
      ],
      "execution_count": null,
      "outputs": []
    },
    {
      "cell_type": "code",
      "metadata": {
        "id": "SH89fzfuSNyi"
      },
      "source": [
        "session = 1\n",
        "w_EE = sparse.load_npz('/content/gdrive/MyDrive/Figures_Package/Session_Matrices/w_EE' + str(session) + '.npz')\n",
        "i, j , w_EE = sparse.find(w_EE)\n",
        "aux = np.zeros((30000, 30000))\n",
        "aux[i, j] = w_EE\n",
        "w_EE1 = aux[np.meshgrid(i_plot, j_plot)]\n",
        "sample_filename = '/content/gdrive/MyDrive/Figures_Package/Session_Matrices/w_EE' + str(1) + '_sample.npy'\n",
        "np.save(sample_filename, w_EE1)"
      ],
      "execution_count": null,
      "outputs": []
    },
    {
      "cell_type": "code",
      "metadata": {
        "id": "GQ7TPhAnhzar"
      },
      "source": [
        "w_EE1 = np.load(sample_filename)"
      ],
      "execution_count": null,
      "outputs": []
    },
    {
      "cell_type": "code",
      "metadata": {
        "id": "U9Thgo98frhV"
      },
      "source": [
        "session = 2\n",
        "w_EE = sparse.load_npz('/content/gdrive/MyDrive/Figures_Package/Session_Matrices/w_EE' + str(session) + '.npz')\n",
        "i, j , w_EE = sparse.find(w_EE)\n",
        "aux = np.zeros((30000, 30000))\n",
        "aux[i, j] = w_EE\n",
        "w_EE2 = aux[np.meshgrid(i_plot, j_plot)]\n",
        "sample_filename = '/content/gdrive/MyDrive/Figures_Package/Session_Matrices/w_EE' + str(2) + '_sample.npy'\n",
        "np.save(sample_filename, w_EE2)"
      ],
      "execution_count": null,
      "outputs": []
    },
    {
      "cell_type": "code",
      "metadata": {
        "id": "mY10w5H_h0tJ"
      },
      "source": [
        "w_EE2 = np.load(sample_filename)"
      ],
      "execution_count": null,
      "outputs": []
    },
    {
      "cell_type": "code",
      "metadata": {
        "id": "JSmjEcWTf425"
      },
      "source": [
        "session = 3\n",
        "w_EE = sparse.load_npz('/content/gdrive/MyDrive/Figures_Package/Session_Matrices/w_EE' + str(session) + '.npz')\n",
        "i, j , w_EE = sparse.find(w_EE)\n",
        "aux = np.zeros((30000, 30000))\n",
        "aux[i, j] = w_EE\n",
        "w_EE3 = aux[np.meshgrid(i_plot, j_plot)]\n",
        "sample_filename = '/content/gdrive/MyDrive/Figures_Package/Session_Matrices/w_EE' + str(3) + '_sample.npy'\n",
        "np.save(sample_filename, w_EE3)"
      ],
      "execution_count": null,
      "outputs": []
    },
    {
      "cell_type": "code",
      "metadata": {
        "id": "ASPgH5Y4h31f"
      },
      "source": [
        "w_EE3 = np.load(sample_filename)"
      ],
      "execution_count": null,
      "outputs": []
    },
    {
      "cell_type": "code",
      "metadata": {
        "id": "ytmPKNEFhtvP"
      },
      "source": [
        "session = 4\n",
        "w_EE = sparse.load_npz('/content/gdrive/MyDrive/Figures_Package/Session_Matrices/w_EE' + str(session) + '.npz')\n",
        "i, j , w_EE = sparse.find(w_EE)\n",
        "aux = np.zeros((30000, 30000))\n",
        "aux[i, j] = w_EE\n",
        "w_EE4 = aux[np.meshgrid(i_plot, j_plot)]\n",
        "sample_filename = '/content/gdrive/MyDrive/Figures_Package/Session_Matrices/w_EE' + str(4) + '_sample.npy'\n",
        "np.save(sample_filename, w_EE4)"
      ],
      "execution_count": null,
      "outputs": []
    },
    {
      "cell_type": "code",
      "metadata": {
        "id": "S1WZas4Th5Sg"
      },
      "source": [
        "w_EE4 = np.load(sample_filename)"
      ],
      "execution_count": null,
      "outputs": []
    },
    {
      "cell_type": "code",
      "metadata": {
        "id": "YpLhP7E2iDZT"
      },
      "source": [
        "session = 5\n",
        "w_EE = sparse.load_npz('/content/gdrive/MyDrive/Figures_Package/Session_Matrices/w_EE' + str(session) + '.npz')\n",
        "i, j , w_EE = sparse.find(w_EE)\n",
        "aux = np.zeros((30000, 30000))\n",
        "aux[i, j] = w_EE\n",
        "w_EE5 = aux[np.meshgrid(i_plot, j_plot)]\n",
        "sample_filename = '/content/gdrive/MyDrive/Figures_Package/Session_Matrices/w_EE' + str(5) + '_sample.npy'\n",
        "np.save(sample_filename, w_EE5)"
      ],
      "execution_count": null,
      "outputs": []
    },
    {
      "cell_type": "code",
      "metadata": {
        "id": "1yE1QBg_iCUI"
      },
      "source": [
        "w_EE5 = np.load(sample_filename)"
      ],
      "execution_count": null,
      "outputs": []
    },
    {
      "cell_type": "code",
      "metadata": {
        "id": "k2TknWS7iJBM"
      },
      "source": [
        "session = 6\n",
        "w_EE = sparse.load_npz('/content/gdrive/MyDrive/Figures_Package/Session_Matrices/w_EE' + str(session) + '.npz')\n",
        "i, j , w_EE = sparse.find(w_EE)\n",
        "aux = np.zeros((30000, 30000))\n",
        "aux[i, j] = w_EE\n",
        "w_EE6 = aux[np.meshgrid(i_plot, j_plot)]\n",
        "sample_filename = '/content/gdrive/MyDrive/Figures_Package/Session_Matrices/w_EE' + str(6) + '_sample.npy'\n",
        "np.save(sample_filename, w_EE6)"
      ],
      "execution_count": null,
      "outputs": []
    },
    {
      "cell_type": "code",
      "metadata": {
        "id": "6v1NPG9PiKVZ"
      },
      "source": [
        "w_EE6 = np.load(sample_filename)"
      ],
      "execution_count": null,
      "outputs": []
    },
    {
      "cell_type": "code",
      "metadata": {
        "id": "8r1dxx0loZPV"
      },
      "source": [
        "import matplotlib.pyplot as plt\n",
        "import numpy as np\n",
        "import pandas as pd\n",
        "import seaborn as sns\n",
        " \n",
        "fig, (ax1, ax2, ax3, ax4, ax5, ax6) = plt.subplots(ncols=6, figsize=(20,5))\n",
        "fig.subplots_adjust(wspace=0.1)\n",
        "\n",
        " \n",
        "sns.heatmap(w_EE1, cmap=\"rocket\", ax=ax1, cbar=False, square=True, yticklabels=False, xticklabels=False)\n",
        "\n",
        "sns.heatmap(w_EE2, cmap=\"rocket\", ax=ax2, cbar=False, square=True, yticklabels=False, xticklabels=False)\n",
        "\n",
        "sns.heatmap(w_EE3, cmap=\"rocket\", ax=ax3, cbar=False, square=True, yticklabels=False, xticklabels=False)\n",
        "\n",
        "sns.heatmap(w_EE4, cmap=\"rocket\", ax=ax4, cbar=False, square=True, yticklabels=False, xticklabels=False)\n",
        "\n",
        "sns.heatmap(w_EE5, cmap=\"rocket\", ax=ax5, cbar=False, square=True, yticklabels=False, xticklabels=False)\n",
        "\n",
        "sns.heatmap(w_EE6, cmap=\"rocket\", ax=ax6, cbar=False, square=True, yticklabels=False, xticklabels=False)\n",
        "\n",
        "plt.show()"
      ],
      "execution_count": null,
      "outputs": []
    }
  ]
}