{
 "cells": [
  {
   "cell_type": "code",
   "execution_count": 1,
   "metadata": {},
   "outputs": [],
   "source": [
    "from network_generator import NetworkGenerator\n",
    "from brian2tools import *\n",
    "from brian2 import *\n",
    "import numpy as np\n",
    "import matplotlib.pyplot as plt"
   ]
  },
  {
   "cell_type": "code",
   "execution_count": 2,
   "metadata": {},
   "outputs": [],
   "source": [
    "def process_firings(M_in, M_ex, time):\n",
    "    global session\n",
    "    count_in = np.array(M_in.count)/(time/second)\n",
    "    count_ex = np.array(M_ex.count)/(time/second)\n",
    "    count_in_path = 'FR_in_session' + str(session) + '.npy'\n",
    "    count_ex_path = 'FR_ex_session' + str(session) + '.npy'\n",
    "    np.save(count_in_path, count_in)\n",
    "    np.save(count_ex_path, count_ex)"
   ]
  },
  {
   "cell_type": "code",
   "execution_count": null,
   "metadata": {
    "scrolled": false
   },
   "outputs": [
    {
     "name": "stdout",
     "output_type": "stream",
     "text": [
      "Starting simulation at t=0. s for a duration of 1. s\n",
      "20.485 ms (2%) simulated in 11s, estimated 8m 48s remaining.\n",
      "40.965 ms (4%) simulated in 26s, estimated 10m 31s remaining.\n",
      "59.12 ms (5%) simulated in 36s, estimated 9m 49s remaining.\n",
      "69.87 ms (6%) simulated in 47s, estimated 10m 28s remaining.\n",
      "81.8 ms (8%) simulated in 57s, estimated 10m 44s remaining.\n",
      "81.925 ms (8%) simulated in 1m 50s, estimated 20m 40s remaining.\n",
      "97.87 ms (9%) simulated in 2m 0s, estimated 18m 33s remaining.\n",
      "104.9 ms (10%) simulated in 2m 10s, estimated 18m 35s remaining.\n",
      "114.615 ms (11%) simulated in 2m 20s, estimated 18m 7s remaining.\n",
      "126.615 ms (12%) simulated in 2m 30s, estimated 17m 20s remaining.\n",
      "133.685 ms (13%) simulated in 2m 40s, estimated 17m 22s remaining.\n",
      "143.325 ms (14%) simulated in 2m 50s, estimated 17m 1s remaining.\n",
      "152.61 ms (15%) simulated in 3m 1s, estimated 16m 45s remaining.\n",
      "160.31 ms (16%) simulated in 3m 11s, estimated 16m 41s remaining.\n",
      "163.845 ms (16%) simulated in 5m 56s, estimated 30m 17s remaining.\n",
      "179.91 ms (17%) simulated in 6m 6s, estimated 27m 50s remaining.\n",
      "186.515 ms (18%) simulated in 6m 17s, estimated 27m 27s remaining.\n",
      "194.03 ms (19%) simulated in 6m 27s, estimated 26m 50s remaining.\n",
      "199.675 ms (19%) simulated in 6m 37s, estimated 26m 34s remaining.\n",
      "208.78 ms (20%) simulated in 6m 47s, estimated 25m 45s remaining.\n",
      "218.945 ms (21%) simulated in 6m 58s, estimated 24m 52s remaining.\n",
      "226.1 ms (22%) simulated in 7m 8s, estimated 24m 25s remaining.\n",
      "233.14 ms (23%) simulated in 7m 18s, estimated 24m 1s remaining.\n",
      "240.275 ms (24%) simulated in 7m 28s, estimated 23m 37s remaining.\n",
      "251.125 ms (25%) simulated in 7m 38s, estimated 22m 47s remaining.\n",
      "256.56 ms (25%) simulated in 7m 48s, estimated 22m 37s remaining.\n",
      "265.095 ms (26%) simulated in 7m 58s, estimated 22m 6s remaining.\n",
      "269.605 ms (26%) simulated in 8m 8s, estimated 22m 3s remaining.\n",
      "274.89 ms (27%) simulated in 8m 18s, estimated 21m 55s remaining.\n",
      "275.31 ms (27%) simulated in 8m 29s, estimated 22m 22s remaining.\n",
      "281.655 ms (28%) simulated in 8m 39s, estimated 22m 6s remaining.\n",
      "283.97 ms (28%) simulated in 8m 50s, estimated 22m 18s remaining.\n",
      "292.8 ms (29%) simulated in 9m 0s, estimated 21m 46s remaining.\n",
      "296.665 ms (29%) simulated in 9m 10s, estimated 21m 46s remaining.\n",
      "298.64 ms (29%) simulated in 9m 20s, estimated 21m 57s remaining.\n",
      "304.035 ms (30%) simulated in 9m 30s, estimated 21m 47s remaining.\n",
      "310.73 ms (31%) simulated in 9m 40s, estimated 21m 29s remaining.\n",
      "0.316465 s (31%) simulated in 9m 50s, estimated 21m 16s remaining.\n",
      "0.323035 s (32%) simulated in 10m 1s, estimated 21m 0s remaining.\n",
      "0.327585 s (32%) simulated in 10m 11s, estimated 20m 55s remaining.\n"
     ]
    }
   ],
   "source": [
    "time = 1000*ms\n",
    "session = 1\n",
    "NG = NetworkGenerator()\n",
    "NG.run_network(time)\n",
    "\n",
    "process_firings(NG.M_in, NG.M_ex, time)"
   ]
  },
  {
   "cell_type": "code",
   "execution_count": null,
   "metadata": {},
   "outputs": [],
   "source": [
    "FR_in = np.load('FR_in_session1.npy')"
   ]
  },
  {
   "cell_type": "code",
   "execution_count": null,
   "metadata": {},
   "outputs": [],
   "source": [
    "plt.hist(FR_in, bins = 'auto')\n",
    "plt.title(\"histogram\")\n",
    "plt.show()"
   ]
  },
  {
   "cell_type": "code",
   "execution_count": null,
   "metadata": {},
   "outputs": [],
   "source": []
  }
 ],
 "metadata": {
  "kernelspec": {
   "display_name": "Python 3",
   "language": "python",
   "name": "python3"
  },
  "language_info": {
   "codemirror_mode": {
    "name": "ipython",
    "version": 3
   },
   "file_extension": ".py",
   "mimetype": "text/x-python",
   "name": "python",
   "nbconvert_exporter": "python",
   "pygments_lexer": "ipython3",
   "version": "3.8.5"
  }
 },
 "nbformat": 4,
 "nbformat_minor": 5
}
