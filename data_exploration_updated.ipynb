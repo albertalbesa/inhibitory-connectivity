{
 "cells": [
  {
   "cell_type": "code",
   "execution_count": 3,
   "metadata": {},
   "outputs": [],
   "source": [
    "import pandas as pd\n",
    "import numpy as np\n",
    "import matplotlib.pyplot as plt\n",
    "import seaborn as sns"
   ]
  },
  {
   "cell_type": "code",
   "execution_count": 4,
   "metadata": {},
   "outputs": [],
   "source": [
    "df = pd.read_csv('Data/publication_data.csv')"
   ]
  },
  {
   "cell_type": "code",
   "execution_count": 5,
   "metadata": {},
   "outputs": [],
   "source": [
    "df.columns = ['cell_index', 'dendrite_index', 'spine_index', 'im_session', 'sipne_I', 'shape_1', 'shape_2', 'dist', 'x_CM', 'y_CM', 'x_den', 'y_den','z_den']"
   ]
  },
  {
   "cell_type": "code",
   "execution_count": 46,
   "metadata": {},
   "outputs": [],
   "source": [
    "spine_dict = {}\n",
    "count = 0"
   ]
  },
  {
   "cell_type": "code",
   "execution_count": 47,
   "metadata": {},
   "outputs": [],
   "source": [
    "def add_spine_id(row):\n",
    "    global count\n",
    "    spine_tuple = (row['cell_index'], row['dendrite_index'], row['spine_index'])\n",
    "    if spine_tuple in spine_dict.keys():\n",
    "        spine_id = spine_dict[spine_tuple]\n",
    "    else:\n",
    "        count += 1\n",
    "        spine_dict[spine_tuple] = count\n",
    "        spine_id = spine_dict[spine_tuple]\n",
    "    return spine_id\n",
    "\n",
    "df['spine_id'] = df.apply (lambda row: add_spine_id(row), axis=1)"
   ]
  },
  {
   "cell_type": "code",
   "execution_count": 58,
   "metadata": {},
   "outputs": [],
   "source": [
    "num_spines = df['spine_id'].nunique()\n",
    "g = 0.37/df['shape_param'].mean()"
   ]
  },
  {
   "cell_type": "code",
   "execution_count": 59,
   "metadata": {},
   "outputs": [
    {
     "data": {
      "text/plain": [
       "0.8214604835007783"
      ]
     },
     "execution_count": 59,
     "metadata": {},
     "output_type": "execute_result"
    }
   ],
   "source": [
    "g"
   ]
  },
  {
   "cell_type": "code",
   "execution_count": 8,
   "metadata": {},
   "outputs": [],
   "source": [
    "df['shape_param'] = df.apply (lambda row: compute_shape(row), axis=1)"
   ]
  },
  {
   "cell_type": "code",
   "execution_count": 230,
   "metadata": {},
   "outputs": [],
   "source": [
    "nums = np.random.choice([0, 1], size=64, p=[.49, .51])"
   ]
  },
  {
   "cell_type": "code",
   "execution_count": 231,
   "metadata": {},
   "outputs": [],
   "source": [
    "def bool_to_eff(x, session):\n",
    "    global num_spines\n",
    "    global g\n",
    "    if int(x) == 1:\n",
    "        spine_id = np.random.randint(1, num_spines)\n",
    "        index = np.where((df['spine_id'] == spine_id) & (df['im_session'] == session))\n",
    "        if len(index[0]) == 0:\n",
    "            y = 0\n",
    "        else:\n",
    "            y = df.iloc[index]['shape_param'].mean()*g\n",
    "    else:\n",
    "        y = 0\n",
    "    return y"
   ]
  },
  {
   "cell_type": "code",
   "execution_count": 232,
   "metadata": {},
   "outputs": [],
   "source": [
    "vfunc = np.vectorize(bool_to_eff)\n",
    "\n",
    "nums = vfunc(nums, session = 1)\n",
    "nums2D = nums.reshape(8,8).astype(float)"
   ]
  },
  {
   "cell_type": "code",
   "execution_count": 233,
   "metadata": {},
   "outputs": [
    {
     "data": {
      "image/png": "[encoded data removed]",
      "text/plain": [
       "<Figure size 432x288 with 2 Axes>"
      ]
     },
     "metadata": {
      "needs_background": "light"
     },
     "output_type": "display_data"
    }
   ],
   "source": [
    "plot=sns.heatmap(nums2D)"
   ]
  },
  {
   "cell_type": "code",
   "execution_count": null,
   "metadata": {},
   "outputs": [],
   "source": []
  }
 ],
 "metadata": {
  "kernelspec": {
   "display_name": "Python 3",
   "language": "python",
   "name": "python3"
  },
  "language_info": {
   "codemirror_mode": {
    "name": "ipython",
    "version": 3
   },
   "file_extension": ".py",
   "mimetype": "text/x-python",
   "name": "python",
   "nbconvert_exporter": "python",
   "pygments_lexer": "ipython3",
   "version": "3.8.5"
  }
 },
 "nbformat": 4,
 "nbformat_minor": 4
}
