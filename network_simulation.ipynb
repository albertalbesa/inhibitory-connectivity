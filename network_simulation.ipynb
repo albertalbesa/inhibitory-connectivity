{
 "cells": [
  {
   "cell_type": "code",
   "execution_count": 2,
   "metadata": {},
   "outputs": [],
   "source": [
    "from brian2 import *\n",
    "import time\n",
    "from brian2tools import *\n",
    "import numpy as np"
   ]
  },
  {
   "cell_type": "markdown",
   "metadata": {},
   "source": [
    "## distribution parameters processing"
   ]
  },
  {
   "cell_type": "code",
   "execution_count": 3,
   "metadata": {},
   "outputs": [],
   "source": [
    "#this function takes as input the first and second momentum of the weights population given in supp table 1 \n",
    "#it transforms the average and var into the average and std of a lognormal distribution (formulas taken from wikipedia)\n",
    "\n",
    "def process_params(av, av2):\n",
    "    var = (av2 - av**2)\n",
    "    \n",
    "    mu = np.log(av**2/(av**2 + var)**(1/2))\n",
    "    sigma = np.log(1 + var/av**2)\n",
    "    \n",
    "    return mu, sigma"
   ]
  },
  {
   "cell_type": "code",
   "execution_count": 4,
   "metadata": {},
   "outputs": [],
   "source": [
    "#the weight distribution parameters are processed and stored in non-array variables to be passed to brian\n",
    "#in the future let's just do this computation and store the values in a file to read\n",
    "\n",
    "avs = np.array([0.37, 0.66, 0.44, 0.54])\n",
    "avs2 = np.array([0.26, 0.65, 0.49, 0.53])\n",
    "\n",
    "lognormal_mu = []\n",
    "lognormal_std = []\n",
    "\n",
    "for i in range(len(avs)):\n",
    "    mu, sigma = process_params(avs[i], avs2[i])\n",
    "    lognormal_mu.append(mu)\n",
    "    lognormal_std.append(sigma)\n",
    "    \n",
    "ee_mu = lognormal_mu[0]\n",
    "ee_std = lognormal_std[0]\n",
    "ie_mu = lognormal_mu[1]\n",
    "ie_std = lognormal_std[1]\n",
    "ei_mu = lognormal_mu[2]\n",
    "ei_std = lognormal_std[2]\n",
    "ii_mu = lognormal_mu[3]\n",
    "ii_std = lognormal_std[3]"
   ]
  },
  {
   "cell_type": "code",
   "execution_count": 33,
   "metadata": {},
   "outputs": [],
   "source": [
    "initial_v = np.load('initial_voltage.npy')"
   ]
  },
  {
   "cell_type": "code",
   "execution_count": 34,
   "metadata": {},
   "outputs": [
    {
     "data": {
      "text/plain": [
       "array([12.08777641, 21.1372122 , 14.62171236, ..., 25.39665334,\n",
       "       15.25382151, 13.35731163])"
      ]
     },
     "execution_count": 34,
     "metadata": {},
     "output_type": "execute_result"
    }
   ],
   "source": [
    "initial_v*mV"
   ]
  },
  {
   "cell_type": "markdown",
   "metadata": {},
   "source": [
    "## defininig the network"
   ]
  },
  {
   "cell_type": "code",
   "execution_count": 35,
   "metadata": {},
   "outputs": [],
   "source": [
    "#define network parameters\n",
    "\n",
    "#total size of the network\n",
    "N = 40000\n",
    "\n",
    "#threshold, reset and refractory parameters\n",
    "v_theta = 33*mV\n",
    "v_reset = 24.75*mV\n",
    "tau_ref = 1*ms\n",
    "v_0 = -1000*mV\n",
    "\n",
    "#indices that delimit inhibitory and excitatory populations 20/80\n",
    "first_inh = 0\n",
    "last_inh = int(0.2*N)\n",
    "first_exc = last_inh\n",
    "last_exc = N\n",
    "\n",
    "\n",
    "#these are additional parameters to play with resizing of weights (in paper would be 1)\n",
    "#g_E = 1/0.8*N\n",
    "#g_I = 1/0.2*N\n",
    "g_E = 1\n",
    "g_I = 1\n",
    "\n",
    "\n",
    "#External drive to each population\n",
    "\n",
    "H_in = 57.8*mV\n",
    "H_ex = 77.6*mV\n",
    "tau_in = np.log((H_in - v_reset)/(H_in - v_theta))*second;\n",
    "tau_ex = np.log((H_ex - v_reset)/(H_ex - v_theta))*second;\n",
    "\n",
    "\n",
    "#clear brian scope to reset any past variables\n",
    "start_scope()\n",
    "\n",
    "#define the model that each neuron will follow\n",
    "tau = 10*ms\n",
    "eqs = '''\n",
    "dv/dt = -(v - H)/tau : volt (unless refractory)\n",
    "H : volt\n",
    "'''\n",
    "\n",
    "#the original network is defined\n",
    "all_neurons = NeuronGroup(N, eqs, threshold = 'v>v_theta', reset = 'v=v_reset', refractory = tau_ref, method = 'exact')\n",
    "#all_neurons.v = '(10 + 14*rand())*mV'\n",
    "\n",
    "#to work with subpopulations bria-n uses slicing notation\n",
    "in_neurons = all_neurons[first_inh:last_inh]\n",
    "ex_neurons = all_neurons[first_exc:last_exc]\n",
    "\n",
    "all_neurons.v = initial_v*mV\n",
    "\n",
    "#in_neurons.v = '(-50 + 83*rand())*mV'\n",
    "#ex_neurons.v = '(-80 + 113*rand())*mV'\n",
    "\n",
    "#in_neurons.v = 'i*v_0'\n",
    "#ex_neurons.v = 'i*v_0'\n",
    "\n",
    "#in_neurons.v = 'v_0*exp(-i*tau_in/(10000*tau)) + H_in*(1 - exp(-i*tau_in/(10000*tau)))'\n",
    "#ex_neurons.v = 'v_0*exp(-(i - 10000)*tau_ex/(30000*tau)) + H_ex*(1 - exp(-(i - 10000)*tau_ex/(30000*tau)))'\n",
    "\n",
    "#in_neurons.v = 'v_0*exp(-i*tau_in/(8000*tau)) + H_in*(1 - exp(-i*tau_in/(8000*tau)))'\n",
    "#ex_neurons.v = 'v_0*exp(-i*tau_ex/(32000*tau)) + H_ex*(1 - exp(-i*tau_ex/(32000*tau)))'\n",
    "\n",
    "\n",
    "#define external drive according to supp table 1\n",
    "in_neurons.H = H_in\n",
    "ex_neurons.H = H_ex\n",
    "#in_neurons.H = '(24 + 9.1*rand())*mV'\n",
    "#ex_neurons.H = '(24 + 9.1*rand())*mV'\n",
    "\n",
    "\n",
    "#initialize the synaptic object for the different subpopulation pairs\n",
    "S_EE = Synapses(ex_neurons, ex_neurons, 'w : volt', on_pre ='v += w')\n",
    "S_IE = Synapses(ex_neurons, in_neurons, 'w : volt', on_pre ='v += w')\n",
    "S_EI = Synapses(in_neurons, ex_neurons,'w : volt', on_pre ='v -= w')\n",
    "S_II = Synapses(in_neurons, in_neurons, 'w : volt', on_pre ='v -= w')\n",
    "\n",
    "\n",
    "#connect them according to probabilities in supp table 1\n",
    "S_EE.connect(p = 0.2)\n",
    "S_IE.connect(p = 0.3)\n",
    "S_EI.connect(p = 0.4)\n",
    "S_II.connect(p = 0.4)\n",
    "\n",
    "#distribute them log-normal according to parameters obtained in processing cells (beginning of notebook)\n",
    "S_EE.w = 'g_E*exp(ee_mu + ee_std*randn())*mV'\n",
    "S_IE.w = 'g_E*exp(ie_mu + ie_std*randn())*mV'\n",
    "S_EI.w = 'g_I*exp(ei_mu + ei_std*randn())*mV'\n",
    "S_II.w = 'g_I*exp(ii_mu + ii_std*randn())*mV'\n",
    "\n",
    "\n",
    "\n",
    "#define monitoring variables. these can monitor the whole population or a desired subpopulation\n",
    "\n",
    "#monitors spiking events\n",
    "M_in = SpikeMonitor(in_neurons)\n",
    "M_ex = SpikeMonitor(ex_neurons)\n",
    "\n",
    "\n",
    "#monitors voltage with time\n",
    "V = StateMonitor(all_neurons, 'v', record = True)"
   ]
  },
  {
   "cell_type": "markdown",
   "metadata": {},
   "source": [
    "## running the network"
   ]
  },
  {
   "cell_type": "code",
   "execution_count": 36,
   "metadata": {},
   "outputs": [
    {
     "name": "stdout",
     "output_type": "stream",
     "text": [
      "Starting simulation at t=0. s for a duration of 40. ms\n",
      "12.715 ms (31%) simulated in 10s, estimated 21s remaining.\n",
      "20.485 ms (51%) simulated in 21s, estimated 21s remaining.\n",
      "30.995 ms (77%) simulated in 31s, estimated 9s remaining.\n",
      "38.48 ms (96%) simulated in 41s, estimated 2s remaining.\n",
      "40. ms (100%) simulated in 43s\n"
     ]
    }
   ],
   "source": [
    "defaultclock.dt = 0.005*ms\n",
    "total_time = 40*ms\n",
    "\n",
    "run(total_time, report = 'text')"
   ]
  },
  {
   "cell_type": "code",
   "execution_count": 20,
   "metadata": {},
   "outputs": [],
   "source": [
    "initial_voltages = all_neurons.v"
   ]
  },
  {
   "cell_type": "code",
   "execution_count": 50,
   "metadata": {},
   "outputs": [
    {
     "data": {
      "text/plain": [
       "<AxesSubplot:xlabel='time (ms)', ylabel='neuron index'>"
      ]
     },
     "execution_count": 50,
     "metadata": {},
     "output_type": "execute_result"
    },
    {
     "data": {
      "image/png": "[encoded data removed]",
      "text/plain": [
       "<Figure size 432x288 with 1 Axes>"
      ]
     },
     "metadata": {
      "needs_background": "light"
     },
     "output_type": "display_data"
    }
   ],
   "source": [
    "brian_plot(M_in)"
   ]
  },
  {
   "cell_type": "code",
   "execution_count": 6,
   "metadata": {},
   "outputs": [],
   "source": [
    "tau_in = np.log((H_in - v_reset)/(H_in - v_theta))\n",
    "tau_ex = np.log((H_ex - v_reset)/(H_ex - v_theta))"
   ]
  },
  {
   "cell_type": "code",
   "execution_count": 39,
   "metadata": {},
   "outputs": [],
   "source": [
    "voltage_to_file = np.array(all_neurons.v/mV)"
   ]
  },
  {
   "cell_type": "code",
   "execution_count": 21,
   "metadata": {},
   "outputs": [],
   "source": [
    "initial_voltage = np.array(all_neurons.v/mV)"
   ]
  },
  {
   "cell_type": "code",
   "execution_count": null,
   "metadata": {},
   "outputs": [],
   "source": [
    "voltage_to_file"
   ]
  },
  {
   "cell_type": "code",
   "execution_count": 1,
   "metadata": {},
   "outputs": [
    {
     "ename": "NameError",
     "evalue": "name 'np' is not defined",
     "output_type": "error",
     "traceback": [
      "\u001b[0;31m---------------------------------------------------------------------------\u001b[0m",
      "\u001b[0;31mNameError\u001b[0m                                 Traceback (most recent call last)",
      "\u001b[0;32m<ipython-input-1-ee3fab325a1e>\u001b[0m in \u001b[0;36m<module>\u001b[0;34m\u001b[0m\n\u001b[0;32m----> 1\u001b[0;31m \u001b[0mnp\u001b[0m\u001b[0;34m.\u001b[0m\u001b[0mrandom\u001b[0m\u001b[0;34m.\u001b[0m\u001b[0mrandint\u001b[0m\u001b[0;34m(\u001b[0m\u001b[0;36m2\u001b[0m\u001b[0;34m,\u001b[0m \u001b[0msize\u001b[0m\u001b[0;34m=\u001b[0m\u001b[0;36m1\u001b[0m\u001b[0;34m)\u001b[0m\u001b[0;34m[\u001b[0m\u001b[0;36m0\u001b[0m\u001b[0;34m]\u001b[0m\u001b[0;34m\u001b[0m\u001b[0;34m\u001b[0m\u001b[0m\n\u001b[0m",
      "\u001b[0;31mNameError\u001b[0m: name 'np' is not defined"
     ]
    }
   ],
   "source": [
    "np.random.randint(2, size=1)[0]"
   ]
  },
  {
   "cell_type": "code",
   "execution_count": 22,
   "metadata": {},
   "outputs": [
    {
     "data": {
      "text/plain": [
       "array([0., 0., 0., ..., 0., 0., 0.])"
      ]
     },
     "execution_count": 22,
     "metadata": {},
     "output_type": "execute_result"
    }
   ],
   "source": [
    "initial_voltage"
   ]
  },
  {
   "cell_type": "code",
   "execution_count": 32,
   "metadata": {},
   "outputs": [],
   "source": [
    "path = 'initial_voltage'\n",
    "np.save(path, voltage_to_file)"
   ]
  },
  {
   "cell_type": "code",
   "execution_count": null,
   "metadata": {},
   "outputs": [],
   "source": [
    "np.load()"
   ]
  },
  {
   "cell_type": "code",
   "execution_count": 40,
   "metadata": {},
   "outputs": [
    {
     "data": {
      "image/png": "[encoded data removed]",
      "text/plain": [
       "<Figure size 432x288 with 1 Axes>"
      ]
     },
     "metadata": {
      "needs_background": "light"
     },
     "output_type": "display_data"
    }
   ],
   "source": [
    "plt.hist(voltage_to_file, bins = 'auto') \n",
    "plt.title(\"histogram\") \n",
    "plt.show()"
   ]
  },
  {
   "cell_type": "code",
   "execution_count": 47,
   "metadata": {},
   "outputs": [
    {
     "data": {
      "image/png": "[encoded data removed]",
      "text/plain": [
       "<Figure size 432x288 with 1 Axes>"
      ]
     },
     "metadata": {
      "needs_background": "light"
     },
     "output_type": "display_data"
    }
   ],
   "source": [
    "plt.hist(voltages, bins = 'auto') \n",
    "plt.title(\"histogram\") \n",
    "plt.show()"
   ]
  },
  {
   "cell_type": "code",
   "execution_count": 46,
   "metadata": {},
   "outputs": [],
   "source": [
    "voltages = np.array(in_neurons.v)"
   ]
  },
  {
   "cell_type": "code",
   "execution_count": 44,
   "metadata": {},
   "outputs": [
    {
     "data": {
      "text/plain": [
       "array([20.        , 20.03054219, 20.06106819, ..., 77.59999754,\n",
       "       77.59999755, 77.59999755])"
      ]
     },
     "execution_count": 44,
     "metadata": {},
     "output_type": "execute_result"
    }
   ],
   "source": [
    "voltages"
   ]
  },
  {
   "cell_type": "code",
   "execution_count": null,
   "metadata": {},
   "outputs": [],
   "source": []
  }
 ],
 "metadata": {
  "kernelspec": {
   "display_name": "Python 3",
   "language": "python",
   "name": "python3"
  },
  "language_info": {
   "codemirror_mode": {
    "name": "ipython",
    "version": 3
   },
   "file_extension": ".py",
   "mimetype": "text/x-python",
   "name": "python",
   "nbconvert_exporter": "python",
   "pygments_lexer": "ipython3",
   "version": "3.8.5"
  }
 },
 "nbformat": 4,
 "nbformat_minor": 4
}
