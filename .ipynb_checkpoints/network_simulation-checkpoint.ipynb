{
 "cells": [
  {
   "cell_type": "code",
   "execution_count": 2,
   "metadata": {},
   "outputs": [
    {
     "name": "stdout",
     "output_type": "stream",
     "text": [
      "zsh:1: bad pattern: [Open\n"
     ]
    }
   ],
   "source": [
    "![Open In Colab](https://colab.research.google.com/assets/colab-badge.svg)](https://colab.research.google.com/github/albertalbesa/inhibitory-connectivity/blob/main/data_exploration.ipynb)"
   ]
  },
  {
   "cell_type": "code",
   "execution_count": null,
   "metadata": {},
   "outputs": [],
   "source": [
    "from brian2 import *\n",
    "import time\n",
    "from brian2tools import *\n",
    "import numpy as np"
   ]
  },
  {
   "cell_type": "code",
   "execution_count": 3,
   "metadata": {},
   "outputs": [],
   "source": [
    "def process_params(av, av2):\n",
    "    var = (av2 - av**2)\n",
    "    \n",
    "    mu = np.log(av**2/(av**2 + var)**(1/2))\n",
    "    sigma = np.log(1 + var/av**2)\n",
    "    \n",
    "    return mu, sigma"
   ]
  },
  {
   "cell_type": "code",
   "execution_count": 4,
   "metadata": {},
   "outputs": [],
   "source": [
    "avs = np.array([0.37, 0.66, 0.44, 0.54])\n",
    "avs2 = np.array([0.26, 0.65, 0.49, 0.53])\n",
    "\n",
    "lognormal_mu = []\n",
    "lognormal_std = []\n",
    "\n",
    "for i in range(len(avs)):\n",
    "    mu, sigma = process_params(avs[i], avs2[i])\n",
    "    lognormal_mu.append(mu)\n",
    "    lognormal_std.append(sigma)"
   ]
  },
  {
   "cell_type": "code",
   "execution_count": 5,
   "metadata": {},
   "outputs": [],
   "source": [
    "ee_mu = lognormal_mu[0]\n",
    "ee_std = lognormal_std[0]\n",
    "\n",
    "ie_mu = lognormal_mu[1]\n",
    "ie_std = lognormal_std[1]\n",
    "\n",
    "ei_mu = lognormal_mu[2]\n",
    "ei_std = lognormal_std[2]\n",
    "\n",
    "ii_mu = lognormal_mu[3]\n",
    "ii_std = lognormal_std[3]"
   ]
  },
  {
   "cell_type": "code",
   "execution_count": 56,
   "metadata": {},
   "outputs": [
    {
     "data": {
      "text/plain": [
       "[-1.3149677227044294,\n",
       " -0.6156394298771044,\n",
       " -1.285286160200928,\n",
       " -0.9149331426296491]"
      ]
     },
     "execution_count": 56,
     "metadata": {},
     "output_type": "execute_result"
    }
   ],
   "source": [
    "exp_mu = lognormal_mu[0]\n",
    "exp_sigma = "
   ]
  },
  {
   "cell_type": "code",
   "execution_count": 321,
   "metadata": {},
   "outputs": [],
   "source": [
    "#define network parameters\n",
    "\n",
    "N = 40000\n",
    "\n",
    "\n",
    "first_inh = 0\n",
    "last_inh = int(0.2*N)\n",
    "\n",
    "first_exc = last_inh\n",
    "last_exc = N\n",
    "\n",
    "\n",
    "g_E = 1/0.8*N\n",
    "g_I = 1/0.2*N\n",
    "\n",
    "#g_E = 1\n",
    "#g_I = 1\n",
    "\n",
    "\n",
    "#generate network\n",
    "\n",
    "start_scope()\n",
    "\n",
    "tau = 10*ms\n",
    "eqs = '''\n",
    "dv/dt = -(v - H)/tau : volt\n",
    "\n",
    "H : volt\n",
    "W_EE : volt\n",
    "W_IE : volt\n",
    "W_EI : volt\n",
    "W_II : volt\n",
    "'''\n",
    "\n",
    "\n",
    "all_neurons = NeuronGroup(N, eqs, threshold = 'v>33*mV', reset = 'v=24.75*mV', refractory = 1*ms)\n",
    "all_neurons.v = '(24 + 4*rand())*mV'\n",
    "\n",
    "in_neurons = all_neurons[first_inh:last_inh]\n",
    "ex_neurons = all_neurons[first_exc:last_exc]\n",
    "\n",
    "#in_neurons.H = '57.8*mV'\n",
    "#ex_neurons.H = '77.6*mV'\n",
    "\n",
    "in_neurons.H = '(24 + 9.1*rand())*mV'\n",
    "ex_neurons.H = '(24 + 9.1*rand())*mV'\n",
    "\n",
    "\n",
    "\n",
    "ex_neurons.W_EE = 'g_E*exp(ee_mu + ee_std*randn())*mV'\n",
    "in_neurons.W_IE = 'g_E*exp(ie_mu + ie_std*randn())*mV'\n",
    "ex_neurons.W_EI = 'g_I*exp(ei_mu + ei_std*randn())*mV'\n",
    "in_neurons.W_II = 'g_I*exp(ii_mu + ii_std*randn())*mV'\n",
    "\n",
    "\n",
    "#S_EE = Synapses(ex_neurons, ex_neurons, on_pre ='v += W_EE')\n",
    "#S_IE = Synapses(ex_neurons, in_neurons, on_pre ='v += W_IE')\n",
    "#S_EI = Synapses(in_neurons, ex_neurons, on_pre ='v -= W_EI')\n",
    "#S_II = Synapses(in_neurons, in_neurons, on_pre ='v -= W_II')\n",
    "\n",
    "#S_EE.connect(p = 0.2)\n",
    "#S_IE.connect(p = 0.3)\n",
    "#S_EI.connect(p = 0.4)\n",
    "#S_II.connect(p = 0.4)\n",
    "\n",
    "\n",
    "\n",
    "\n",
    "\n",
    "\n",
    "M = SpikeMonitor(all_neurons)\n",
    "V = StateMonitor(all_neurons, 'v', record = True)"
   ]
  },
  {
   "cell_type": "code",
   "execution_count": 322,
   "metadata": {},
   "outputs": [
    {
     "name": "stderr",
     "output_type": "stream",
     "text": [
      "INFO       No numerical integration method specified for group 'neurongroup_5', using method 'exact' (took 0.31s). [brian2.stateupdaters.base.method_choice]\n"
     ]
    },
    {
     "name": "stdout",
     "output_type": "stream",
     "text": [
      "621.4530718326569\n"
     ]
    }
   ],
   "source": [
    "total_time = 50*ms\n",
    "\n",
    "start = time.time()\n",
    "\n",
    "run(total_time)\n",
    "\n",
    "end = time.time()\n",
    "time_elapsed = end - start\n",
    "\n",
    "print(time_elapsed)"
   ]
  },
  {
   "cell_type": "code",
   "execution_count": 323,
   "metadata": {},
   "outputs": [
    {
     "data": {
      "text/plain": [
       "<AxesSubplot:xlabel='time (ms)', ylabel='neuron index'>"
      ]
     },
     "execution_count": 323,
     "metadata": {},
     "output_type": "execute_result"
    },
    {
     "data": {
      "image/png": "[encoded data removed]",
      "text/plain": [
       "<Figure size 432x288 with 1 Axes>"
      ]
     },
     "metadata": {
      "needs_background": "light"
     },
     "output_type": "display_data"
    }
   ],
   "source": [
    "brian_plot(M)"
   ]
  },
  {
   "cell_type": "code",
   "execution_count": null,
   "metadata": {},
   "outputs": [],
   "source": [
    "np.mean()"
   ]
  },
  {
   "cell_type": "code",
   "execution_count": 279,
   "metadata": {},
   "outputs": [],
   "source": [
    "weights = all_neurons.W_EE/mV"
   ]
  },
  {
   "cell_type": "code",
   "execution_count": 280,
   "metadata": {},
   "outputs": [
    {
     "data": {
      "text/plain": [
       "(array([1.8396e+04, 1.3169e+04, 5.1190e+03, 1.9290e+03, 7.5800e+02,\n",
       "        3.3800e+02, 1.3100e+02, 8.5000e+01, 3.2000e+01, 1.6000e+01,\n",
       "        1.1000e+01, 4.0000e+00, 4.0000e+00, 5.0000e+00, 1.0000e+00,\n",
       "        1.0000e+00, 0.0000e+00, 0.0000e+00, 0.0000e+00, 1.0000e+00]),\n",
       " array([0.        , 0.20104169, 0.40208338, 0.60312506, 0.80416675,\n",
       "        1.00520844, 1.20625013, 1.40729182, 1.6083335 , 1.80937519,\n",
       "        2.01041688, 2.21145857, 2.41250025, 2.61354194, 2.81458363,\n",
       "        3.01562532, 3.21666701, 3.41770869, 3.61875038, 3.81979207,\n",
       "        4.02083376]),\n",
       " <BarContainer object of 20 artists>)"
      ]
     },
     "execution_count": 280,
     "metadata": {},
     "output_type": "execute_result"
    },
    {
     "data": {
      "image/png": "[encoded data removed]",
      "text/plain": [
       "<Figure size 432x288 with 2 Axes>"
      ]
     },
     "metadata": {
      "needs_background": "light"
     },
     "output_type": "display_data"
    }
   ],
   "source": [
    "n_bins = 20\n",
    "\n",
    "# Generate a normal distribution, center at x=0 and y=5\n",
    "\n",
    "\n",
    "fig, axs = plt.subplots(1, 2, sharey=True, tight_layout=True)\n",
    "\n",
    "# We can set the number of bins with the `bins` kwarg\n",
    "axs[0].hist(weights, bins=n_bins)"
   ]
  },
  {
   "cell_type": "code",
   "execution_count": 149,
   "metadata": {},
   "outputs": [
    {
     "name": "stderr",
     "output_type": "stream",
     "text": [
      "WARNING    Came across an abstract code block that may not be well-defined: the outcome may depend on the order of execution. You can ignore this warning if you are sure that the order of operations does not matter. Abstract code: \"v += _lio_1 * exp(ee_mu + (ee_std * randn())) (in-place)\"\n",
      " [brian2.codegen.generators.base]\n",
      "WARNING    Came across an abstract code block that may not be well-defined: the outcome may depend on the order of execution. You can ignore this warning if you are sure that the order of operations does not matter. Abstract code: \"v += _lio_1 * exp(ie_mu + (ie_std * randn())) (in-place)\"\n",
      " [brian2.codegen.generators.base]\n",
      "WARNING    Came across an abstract code block that may not be well-defined: the outcome may depend on the order of execution. You can ignore this warning if you are sure that the order of operations does not matter. Abstract code: \"v -= _lio_1 * exp(ii_mu + (ii_std * randn())) (in-place)\"\n",
      " [brian2.codegen.generators.base]\n",
      "WARNING    Came across an abstract code block that may not be well-defined: the outcome may depend on the order of execution. You can ignore this warning if you are sure that the order of operations does not matter. Abstract code: \"v -= _lio_1 * exp(ei_mu + (ei_std * randn())) (in-place)\"\n",
      " [brian2.codegen.generators.base]\n"
     ]
    },
    {
     "name": "stdout",
     "output_type": "stream",
     "text": [
      "271.33060789108276\n"
     ]
    }
   ],
   "source": [
    "total_time = 50*ms\n",
    "\n",
    "start = time.time()\n",
    "\n",
    "run(total_time)\n",
    "\n",
    "end = time.time()\n",
    "time_elapsed = end - start\n",
    "\n",
    "print(time_elapsed)"
   ]
  },
  {
   "cell_type": "code",
   "execution_count": 150,
   "metadata": {},
   "outputs": [
    {
     "data": {
      "text/plain": [
       "<AxesSubplot:xlabel='time (ms)', ylabel='neuron index'>"
      ]
     },
     "execution_count": 150,
     "metadata": {},
     "output_type": "execute_result"
    },
    {
     "data": {
      "image/png": "[encoded data removed]",
      "text/plain": [
       "<Figure size 432x288 with 1 Axes>"
      ]
     },
     "metadata": {
      "needs_background": "light"
     },
     "output_type": "display_data"
    }
   ],
   "source": [
    "brian_plot(M)"
   ]
  },
  {
   "cell_type": "code",
   "execution_count": 264,
   "metadata": {},
   "outputs": [],
   "source": [
    "#define network parameters\n",
    "\n",
    "N = 40000\n",
    "\n",
    "\n",
    "first_inh = 0\n",
    "last_inh = int(0.2*N)\n",
    "\n",
    "first_exc = last_inh\n",
    "last_exc = N\n",
    "\n",
    "\n",
    "#g_E = 1/0.8*N\n",
    "#g_I = 1/0.2*N\n",
    "\n",
    "g_E = 1\n",
    "g_I = 1\n",
    "g_H = 0.6\n",
    "#generate network\n",
    "\n",
    "start_scope()\n",
    "\n",
    "tau_m = 10*ms\n",
    "tau_h = 0.00015*ms\n",
    "eqs = '''\n",
    "dv/dt = -(v - H_tot)/tau_m : volt\n",
    "dh/dt = -h/tau_h : volt\n",
    "H_tot = H + g_0*h : volt\n",
    "g_0 : 1\n",
    "H : volt\n",
    "W_EE : volt\n",
    "W_IE : volt\n",
    "W_EI : volt\n",
    "W_II : volt\n",
    "'''\n",
    "\n",
    "all_neurons = NeuronGroup(N, eqs, threshold = 'v>33*mV', reset = 'v=24.75*mV', refractory = 1*ms)\n",
    "all_neurons.v = '(27 + randn())*mV'\n",
    "all_neurons.g_0 = 0.005\n",
    "all_neurons.h = 0.1*mV\n",
    "\n",
    "in_neurons = all_neurons[first_inh:last_inh]\n",
    "ex_neurons = all_neurons[first_exc:last_exc]\n",
    "\n",
    "in_neurons.H = 'g_H*57.8*mV'\n",
    "ex_neurons.H = 'g_H*77.6*mV'\n",
    "\n",
    "#in_neurons.H = '(35 + 4*randn())*mV'\n",
    "#ex_neurons.H = '(27 + 4*randn())*mV'\n",
    "\n",
    "\n",
    "\n",
    "ex_neurons.W_EE = 'g_E*exp(ee_mu + ee_std*randn())*mV'\n",
    "in_neurons.W_IE = 'g_E*exp(ie_mu + ie_std*randn())*mV'\n",
    "ex_neurons.W_EI = 'g_I*exp(ei_mu + ei_std*randn())*mV'\n",
    "in_neurons.W_II = 'g_I*exp(ii_mu + ii_std*randn())*mV'\n",
    "\n",
    "\n",
    "S_EE = Synapses(ex_neurons, ex_neurons, on_pre ='h += W_EE')\n",
    "S_IE = Synapses(ex_neurons, in_neurons, on_pre ='h += W_IE')\n",
    "S_EI = Synapses(in_neurons, ex_neurons, on_pre ='h -= W_EI')\n",
    "S_II = Synapses(in_neurons, in_neurons, on_pre ='h -= W_II')\n",
    "\n",
    "S_EE.connect(p = 0.2)\n",
    "S_IE.connect(p = 0.3)\n",
    "S_EI.connect(p = 0.4)\n",
    "S_II.connect(p = 0.4)\n",
    "\n",
    "\n",
    "\n",
    "\n",
    "\n",
    "\n",
    "M = SpikeMonitor(all_neurons)\n",
    "V = StateMonitor(all_neurons, 'v', record = True)\n",
    "H_in = StateMonitor(in_neurons, 'H_tot', record = True)\n",
    "H_ex = StateMonitor(ex_neurons, 'H_tot', record = True)"
   ]
  },
  {
   "cell_type": "code",
   "execution_count": 265,
   "metadata": {},
   "outputs": [
    {
     "name": "stdout",
     "output_type": "stream",
     "text": [
      "514.8296887874603\n"
     ]
    }
   ],
   "source": [
    "total_time = 20*ms\n",
    "\n",
    "start = time.time()\n",
    "\n",
    "run(total_time)\n",
    "\n",
    "end = time.time()\n",
    "time_elapsed = end - start\n",
    "\n",
    "print(time_elapsed)"
   ]
  },
  {
   "cell_type": "code",
   "execution_count": 272,
   "metadata": {},
   "outputs": [
    {
     "data": {
      "text/plain": [
       "<AxesSubplot:xlabel='time (ms)', ylabel='neuron index'>"
      ]
     },
     "execution_count": 272,
     "metadata": {},
     "output_type": "execute_result"
    },
    {
     "data": {
      "image/png": "[encoded data removed]",
      "text/plain": [
       "<Figure size 432x288 with 1 Axes>"
      ]
     },
     "metadata": {
      "needs_background": "light"
     },
     "output_type": "display_data"
    }
   ],
   "source": [
    "brian_plot(M)"
   ]
  },
  {
   "cell_type": "code",
   "execution_count": null,
   "metadata": {},
   "outputs": [],
   "source": []
  }
 ],
 "metadata": {
  "kernelspec": {
   "display_name": "Python 3",
   "language": "python",
   "name": "python3"
  },
  "language_info": {
   "codemirror_mode": {
    "name": "ipython",
    "version": 3
   },
   "file_extension": ".py",
   "mimetype": "text/x-python",
   "name": "python",
   "nbconvert_exporter": "python",
   "pygments_lexer": "ipython3",
   "version": "3.8.5"
  }
 },
 "nbformat": 4,
 "nbformat_minor": 4
}
